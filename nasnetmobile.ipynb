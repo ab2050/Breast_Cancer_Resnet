{
 "cells": [
  {
   "cell_type": "code",
   "execution_count": 1,
   "id": "4b109e82",
   "metadata": {},
   "outputs": [],
   "source": [
    "import tensorflow as tf\n",
    "from tensorflow.keras.preprocessing.image import ImageDataGenerator\n",
    "from tensorflow.keras.models import Sequential\n",
    "from tensorflow.keras.layers import Conv2D, MaxPooling2D\n",
    "from tensorflow.keras.layers import Activation, Dropout, Flatten, Dense, BatchNormalization\n",
    "import os\n",
    "import pandas as pd\n",
    "import numpy as np\n",
    "import cv2"
   ]
  },
  {
   "cell_type": "code",
   "execution_count": 11,
   "id": "b120818c",
   "metadata": {},
   "outputs": [],
   "source": [
    "base_dir = r'E:\\AB\\pneumonia_binary\\train'\n",
    "img_h,img_w= (224,224)\n",
    "batch_size=256\n",
    "epochs=3\n",
    "from tensorflow.keras.preprocessing.image import ImageDataGenerator\n",
    "datagen= ImageDataGenerator(horizontal_flip=True, vertical_flip=True,width_shift_range=0.2, height_shift_range=0.2,zoom_range=0.2,brightness_range=[0.2,1.2],rescale=1./255,validation_split=0.2)"
   ]
  },
  {
   "cell_type": "code",
   "execution_count": 12,
   "id": "ea53bed4",
   "metadata": {},
   "outputs": [
    {
     "name": "stdout",
     "output_type": "stream",
     "text": [
      "Model: \"sequential_1\"\n",
      "_________________________________________________________________\n",
      " Layer (type)                Output Shape              Param #   \n",
      "=================================================================\n",
      " NASNet (Functional)         (None, 7, 7, 1056)        4269716   \n",
      "                                                                 \n",
      " dropout_2 (Dropout)         (None, 7, 7, 1056)        0         \n",
      "                                                                 \n",
      " max_pooling2d_1 (MaxPooling  (None, 3, 3, 1056)       0         \n",
      " 2D)                                                             \n",
      "                                                                 \n",
      " flatten_1 (Flatten)         (None, 9504)              0         \n",
      "                                                                 \n",
      " dropout_3 (Dropout)         (None, 9504)              0         \n",
      "                                                                 \n",
      " dense_1 (Dense)             (None, 2)                 19010     \n",
      "                                                                 \n",
      "=================================================================\n",
      "Total params: 4,288,726\n",
      "Trainable params: 19,010\n",
      "Non-trainable params: 4,269,716\n",
      "_________________________________________________________________\n"
     ]
    }
   ],
   "source": [
    "import keras\n",
    "#from keras.applications.mobilenet import MobileNet\n",
    "from keras.applications.nasnet import NASNetMobile\n",
    "from keras.models import Model,load_model,Sequential\n",
    "from keras.layers import Input,Activation, Dense, GlobalAveragePooling2D, Dropout, Flatten\n",
    "from tensorflow.keras.optimizers import Adam,SGD,Adagrad,Adadelta,RMSprop\n",
    "from keras.callbacks import ModelCheckpoint\n",
    "from keras import backend as K\n",
    "from keras.callbacks import EarlyStopping, History\n",
    "from keras.utils import np_utils\n",
    "from keras.preprocessing.image import ImageDataGenerator\n",
    "from keras.applications.mobilenet import preprocess_input\n",
    "from tensorflow.keras.layers import PReLU\n",
    "from tensorflow.keras.optimizers import RMSprop\n",
    "from tensorflow.keras.layers import Conv2D, MaxPooling2D\n",
    "from tensorflow.keras.callbacks import ReduceLROnPlateau\n",
    "\n",
    "import keras\n",
    "from tensorflow.python.keras.metrics import Metric\n",
    "\n",
    "base_model = NASNetMobile(input_shape=(img_h,img_w,3), include_top=False,weights='imagenet')\n",
    "\n",
    "for layer in base_model.layers[:-7]:\n",
    "    layer.trainable=False\n",
    "\n",
    " \n",
    "model=Sequential()\n",
    "model.add(base_model)\n",
    "model.add(Dropout(0.25))\n",
    "model.add(MaxPooling2D(pool_size=(2,2)))\n",
    "model.add(Flatten())\n",
    "model.add(Dropout(0.5))\n",
    "\n",
    "\n",
    "model.add(Dense(2,activation='sigmoid'))\n",
    "#model.add(Dense(1))\n",
    "#model.add(Activation(\"sigmoid\"))\n",
    "model.summary()"
   ]
  },
  {
   "cell_type": "code",
   "execution_count": 13,
   "id": "d87c7cf9",
   "metadata": {},
   "outputs": [],
   "source": [
    "from tensorflow.keras.callbacks import ReduceLROnPlateau\n",
    "\n",
    "\n",
    "reduce_learning_rate = ReduceLROnPlateau(monitor='loss',\n",
    "                                         factor=0.1,\n",
    "                                         patience=3,\n",
    "                                         cooldown=2,\n",
    "                                         min_lr=1e-10,\n",
    "                                         verbose=1)\n",
    "\n",
    "checkpoint =tf.keras.callbacks.ModelCheckpoint(filepath=\"nasnetmobile.h5\", \n",
    "                            monitor='val_accuracy',\n",
    "                            verbose=1,\n",
    "                            save_best_only=True, \n",
    "                            save_weights_only=False, \n",
    "                            mode='auto',\n",
    "                            save_freq='epoch')\n",
    "\n",
    "\n",
    "import time\n",
    "class TimeHistory(tf.keras.callbacks.Callback):\n",
    "    def on_train_begin(self, logs={}):\n",
    "        self.times = []\n",
    "\n",
    "    def on_epoch_begin(self, batch, logs={}):\n",
    "        self.epoch_time_start = time.time()\n",
    "\n",
    "    def on_epoch_end(self, batch, logs={}):\n",
    "        self.times.append(time.time() - self.epoch_time_start)\n",
    "\n",
    "time_callback = TimeHistory()\n",
    "\n",
    "callbacks = [reduce_learning_rate, checkpoint, time_callback]\n",
    "optimizer = RMSprop(lr=0.001, rho=0.9, epsilon=1e-08, decay=0.0)\n",
    "model.compile( loss='binary_crossentropy',optimizer= optimizer, metrics=['accuracy',keras.metrics.Precision(),keras.metrics.Recall()])"
   ]
  },
  {
   "cell_type": "code",
   "execution_count": 27,
   "id": "eaa91943",
   "metadata": {},
   "outputs": [
    {
     "name": "stdout",
     "output_type": "stream",
     "text": [
      "Collecting split-folders\n",
      "  Downloading split_folders-0.5.1-py3-none-any.whl (8.4 kB)\n",
      "Installing collected packages: split-folders\n",
      "Successfully installed split-folders-0.5.1\n",
      "Note: you may need to restart the kernel to use updated packages.\n"
     ]
    }
   ],
   "source": [
    "pip install split-folders"
   ]
  },
  {
   "cell_type": "code",
   "execution_count": 34,
   "id": "1183e13e",
   "metadata": {},
   "outputs": [
    {
     "name": "stderr",
     "output_type": "stream",
     "text": [
      "Copying files: 4192 files [00:30, 135.27 files/s]\n"
     ]
    }
   ],
   "source": [
    "import splitfolders # or import splitfolders\n",
    "input_folder = \"E:\\\\AB\\\\pneumonia_binary\\\\train\"\n",
    "output = \"E:\\\\AB\\\\pneumonia_binary\\\\split\" #\n",
    "\n",
    "splitfolders.ratio(input_folder, output=output, seed=1337, ratio=(.7, .3)) # \n."
   ]
  },
  {
   "cell_type": "code",
   "execution_count": 35,
   "id": "a3803780",
   "metadata": {},
   "outputs": [],
   "source": [
    "from sklearn.model_selection import train_test_split\n",
    "#X_train, X_test, y_train, y_test = train_test_split(train_generator, #test,\n",
    " #   test_size=0.2, shuffle = True, random_state = 8)\n",
    "#x,y = train_test_split(base_dir)\n",
    "#X_train, X_val, y_train, y_val = train_test_split(train_generator,# validation_generator, \n",
    " #   test_size=0.25, random_state= 8)\n"
   ]
  },
  {
   "cell_type": "code",
   "execution_count": 14,
   "id": "39ce9f83",
   "metadata": {},
   "outputs": [
    {
     "name": "stdout",
     "output_type": "stream",
     "text": [
      "Found 2515 images belonging to 2 classes.\n",
      "Found 251 images belonging to 2 classes.\n"
     ]
    }
   ],
   "source": [
    "val_dir = r'E:\\AB\\pneumonia_binary\\split\\val'\n",
    "base_dir = r'E:\\AB\\pneumonia_binary\\split\\train'\n",
    "train_generator = datagen.flow_from_directory(\n",
    "        base_dir,  # This is the source directory for training images\n",
    "        target_size=(img_h,img_w),  \n",
    "        batch_size=batch_size,\n",
    "        class_mode='categorical',\n",
    "        subset='training',\n",
    "      #  color_mode=\"grayscale\",\n",
    "        shuffle=True)\n",
    "\n",
    "\n",
    "validation_generator = datagen.flow_from_directory(\n",
    "        val_dir,     \n",
    "        target_size=(img_h, img_w),\n",
    "        batch_size=batch_size,\n",
    "        class_mode='categorical',\n",
    "      #  color_mode=\"grayscale\",\n",
    "        subset='validation',\n",
    "        shuffle=False)"
   ]
  },
  {
   "cell_type": "code",
   "execution_count": 15,
   "id": "ad600e33",
   "metadata": {},
   "outputs": [
    {
     "name": "stdout",
     "output_type": "stream",
     "text": [
      "Epoch 1/5\n",
      "9/9 [==============================] - ETA: 0s - loss: 2.7832 - accuracy: 0.6950 - precision_1: 0.6699 - recall_1: 0.6990 WARNING:tensorflow:Can save best model only with val_accuracy available, skipping.\n",
      "9/9 [==============================] - 286s 31s/step - loss: 2.7832 - accuracy: 0.6950 - precision_1: 0.6699 - recall_1: 0.6990 - lr: 0.0010\n",
      "Epoch 2/5\n",
      "9/9 [==============================] - ETA: 0s - loss: 1.0127 - accuracy: 0.7795 - precision_1: 0.7598 - recall_1: 0.7632 WARNING:tensorflow:Can save best model only with val_accuracy available, skipping.\n",
      "9/9 [==============================] - 217s 24s/step - loss: 1.0127 - accuracy: 0.7795 - precision_1: 0.7598 - recall_1: 0.7632 - lr: 0.0010\n",
      "Epoch 3/5\n",
      "9/9 [==============================] - ETA: 0s - loss: 1.0623 - accuracy: 0.7773 - precision_1: 0.7627 - recall_1: 0.7711 WARNING:tensorflow:Can save best model only with val_accuracy available, skipping.\n",
      "9/9 [==============================] - 178s 20s/step - loss: 1.0623 - accuracy: 0.7773 - precision_1: 0.7627 - recall_1: 0.7711 - lr: 0.0010\n",
      "Epoch 4/5\n",
      "9/9 [==============================] - ETA: 0s - loss: 0.7831 - accuracy: 0.8198 - precision_1: 0.8106 - recall_1: 0.8070 WARNING:tensorflow:Can save best model only with val_accuracy available, skipping.\n",
      "9/9 [==============================] - 131s 14s/step - loss: 0.7831 - accuracy: 0.8198 - precision_1: 0.8106 - recall_1: 0.8070 - lr: 0.0010\n",
      "Epoch 5/5\n",
      "9/9 [==============================] - ETA: 0s - loss: 0.8365 - accuracy: 0.8168 - precision_1: 0.8071 - recall_1: 0.8025 WARNING:tensorflow:Can save best model only with val_accuracy available, skipping.\n",
      "9/9 [==============================] - 125s 14s/step - loss: 0.8365 - accuracy: 0.8168 - precision_1: 0.8071 - recall_1: 0.8025 - lr: 0.0010\n"
     ]
    }
   ],
   "source": [
    "history = model.fit(\n",
    "      train_generator,\n",
    "      steps_per_epoch=train_generator.samples//batch_size, \n",
    "      epochs=5,\n",
    "      validation_data=validation_generator,\n",
    "      validation_steps=validation_generator.samples//batch_size,  \n",
    "      callbacks=callbacks,\n",
    "      verbose=1)"
   ]
  },
  {
   "cell_type": "code",
   "execution_count": 16,
   "id": "cf4d0ca8",
   "metadata": {},
   "outputs": [
    {
     "name": "stdout",
     "output_type": "stream",
     "text": [
      "1/1 [==============================] - 56s 56s/step - loss: 0.6901 - accuracy: 0.8406 - precision_1: 0.7978 - recall_1: 0.8805\n"
     ]
    },
    {
     "data": {
      "text/plain": [
       "[0.6901435256004333,\n",
       " 0.8406374454498291,\n",
       " 0.7978339195251465,\n",
       " 0.8804780840873718]"
      ]
     },
     "execution_count": 16,
     "metadata": {},
     "output_type": "execute_result"
    }
   ],
   "source": [
    "model.evaluate(validation_generator,verbose=1)"
   ]
  },
  {
   "cell_type": "code",
   "execution_count": 41,
   "id": "d34483fc",
   "metadata": {},
   "outputs": [
    {
     "data": {
      "image/png": "[encoded data removed]",
      "text/plain": [
       "<Figure size 432x288 with 1 Axes>"
      ]
     },
     "metadata": {
      "needs_background": "light"
     },
     "output_type": "display_data"
    }
   ],
   "source": [
    "from matplotlib import pyplot as plt \n",
    "plt.plot(history.history['accuracy'])\n",
    "plt.plot(history.history['val_accuracy'])\n",
    "plt.title('model accuracy')\n",
    "plt.ylabel('accuracy')\n",
    "plt.xlabel('epoch')\n",
    "plt.legend(['train', 'validation'], loc='upper left')\n",
    "plt.show()"
   ]
  },
  {
   "cell_type": "code",
   "execution_count": 85,
   "id": "b5c71fcb",
   "metadata": {},
   "outputs": [
    {
     "name": "stdout",
     "output_type": "stream",
     "text": [
      "0.925000011920929 at epoch number- 2\n"
     ]
    }
   ],
   "source": [
    "accu= history.history['val_accuracy']\n",
    "print(max(accu),\"at epoch number-\",accu.index(max(accu))+1)"
   ]
  },
  {
   "cell_type": "code",
   "execution_count": 17,
   "id": "86dcf5c7",
   "metadata": {},
   "outputs": [
    {
     "name": "stdout",
     "output_type": "stream",
     "text": [
      "Not\n"
     ]
    }
   ],
   "source": [
    "img = cv2.imread(\"E:\\\\AB\\\\pneumonia_binary\\\\test\\\\opacity\\\\person17_virus_48.jpeg\") \n",
    "image_resized= cv2.resize(img, (img_h,img_w))\n",
    "'''cv2.imshow('CT scan', img)\n",
    "cv2.waitKey(0)\n",
    "'''\n",
    "img=np.expand_dims(image_resized,axis=0)\n",
    "np.set_printoptions(suppress=True)\n",
    "pred=model.predict(img)\n",
    "#print(pred);\n",
    "yn=np.argmax(pred,axis=1)\n",
    "if yn==0:\n",
    "    print(\"Pneumonia\")\n",
    "else :\n",
    "    print(\"Not\")"
   ]
  },
  {
   "cell_type": "code",
   "execution_count": 18,
   "id": "77cebf77",
   "metadata": {},
   "outputs": [
    {
     "data": {
      "text/plain": [
       "array([[0., 1.]], dtype=float32)"
      ]
     },
     "execution_count": 18,
     "metadata": {},
     "output_type": "execute_result"
    }
   ],
   "source": [
    "img2 = cv2.imread(\"E:\\\\AB\\\\pneumonia_binary\\\\val\\\\normal\\\\NORMAL2-IM-1102-0001-0002.jpeg\") \n",
    "image_resized= cv2.resize(img2, (img_h,img_w))\n",
    "pred=model.predict(img)\n",
    "pred\n"
   ]
  },
  {
   "cell_type": "code",
   "execution_count": 13,
   "id": "561e5894",
   "metadata": {},
   "outputs": [
    {
     "name": "stdout",
     "output_type": "stream",
     "text": [
      "26/26 [==============================] - 13s 385ms/step\n",
      "0.9178743961352657\n"
     ]
    }
   ],
   "source": [
    "model2= tf.keras.models.load_model(\"nasnetmobile.h5\")\n",
    "y_pred= model2.predict(validation_generator,verbose=1)\n",
    "y_true= validation_generator.classes\n",
    "y_pred2= np.argmax(y_pred,axis=1)\n",
    "\n",
    "from sklearn.metrics import accuracy_score\n",
    "print(accuracy_score(y_true,y_pred2))\n",
    "from sklearn.metrics import confusion_matrix\n",
    "\n",
    "cf=confusion_matrix(y_true, y_pred2)"
   ]
  },
  {
   "cell_type": "code",
   "execution_count": 14,
   "id": "d293cea4",
   "metadata": {},
   "outputs": [
    {
     "data": {
      "text/plain": [
       "array([[ 46,   7],\n",
       "       [ 10, 144]], dtype=int64)"
      ]
     },
     "execution_count": 14,
     "metadata": {},
     "output_type": "execute_result"
    }
   ],
   "source": [
    "cf"
   ]
  },
  {
   "cell_type": "code",
   "execution_count": null,
   "id": "3e147312",
   "metadata": {},
   "outputs": [],
   "source": []
  }
 ],
 "metadata": {
  "kernelspec": {
   "display_name": "Python 3 (ipykernel)",
   "language": "python",
   "name": "python3"
  },
  "language_info": {
   "codemirror_mode": {
    "name": "ipython",
    "version": 3
   },
   "file_extension": ".py",
   "mimetype": "text/x-python",
   "name": "python",
   "nbconvert_exporter": "python",
   "pygments_lexer": "ipython3",
   "version": "3.9.7"
  }
 },
 "nbformat": 4,
 "nbformat_minor": 5
}
