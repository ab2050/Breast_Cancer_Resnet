{
 "cells": [
  {
   "cell_type": "code",
   "execution_count": 1,
   "id": "4b109e82",
   "metadata": {},
   "outputs": [],
   "source": [
    "import tensorflow as tf\n",
    "from tensorflow.keras.preprocessing.image import ImageDataGenerator\n",
    "from tensorflow.keras.models import Sequential\n",
    "from tensorflow.keras.layers import Conv2D, MaxPooling2D\n",
    "from tensorflow.keras.layers import Activation, Dropout, Flatten, Dense, BatchNormalization\n",
    "import os\n",
    "import pandas as pd\n",
    "import numpy as np\n",
    "import cv2"
   ]
  },
  {
   "cell_type": "code",
   "execution_count": 2,
   "id": "b120818c",
   "metadata": {},
   "outputs": [],
   "source": [
    "base_dir = r'E:\\AB\\UEM\\year 3\\SEM 6\\pneumonia_binary\\train'\n",
    "img_h,img_w= (164,164)\n",
    "batch_size=8\n",
    "#epochs=3\n",
    "from tensorflow.keras.preprocessing.image import ImageDataGenerator\n",
    "datagen= ImageDataGenerator(horizontal_flip=True, vertical_flip=True,width_shift_range=0.2, height_shift_range=0.2,rescale=1./255,validation_split=0.2)"
   ]
  },
  {
   "cell_type": "code",
   "execution_count": 3,
   "id": "ea53bed4",
   "metadata": {},
   "outputs": [
    {
     "name": "stdout",
     "output_type": "stream",
     "text": [
      "WARNING:tensorflow:`input_shape` is undefined or non-square, or `rows` is not in [128, 160, 192, 224]. Weights for input shape (224, 224) will be loaded as the default.\n",
      "Model: \"sequential\"\n",
      "_________________________________________________________________\n",
      " Layer (type)                Output Shape              Param #   \n",
      "=================================================================\n",
      " mobilenet_1.00_224 (Functio  (None, 5, 5, 1024)       3228864   \n",
      " nal)                                                            \n",
      "                                                                 \n",
      " flatten (Flatten)           (None, 25600)             0         \n",
      "                                                                 \n",
      " dropout (Dropout)           (None, 25600)             0         \n",
      "                                                                 \n",
      " dense (Dense)               (None, 2)                 51202     \n",
      "                                                                 \n",
      "=================================================================\n",
      "Total params: 3,280,066\n",
      "Trainable params: 1,113,090\n",
      "Non-trainable params: 2,166,976\n",
      "_________________________________________________________________\n"
     ]
    }
   ],
   "source": [
    "import keras\n",
    "from keras.applications.mobilenet import MobileNet\n",
    "from keras.models import Model,load_model,Sequential\n",
    "from keras.layers import Input,Activation, Dense, GlobalAveragePooling2D, Dropout, Flatten\n",
    "from tensorflow.keras.optimizers import Adam,SGD,Adagrad,Adadelta,RMSprop\n",
    "from keras.callbacks import ModelCheckpoint\n",
    "from keras import backend as K\n",
    "from keras.callbacks import EarlyStopping, History\n",
    "from keras.utils import np_utils\n",
    "from keras.preprocessing.image import ImageDataGenerator\n",
    "from keras.applications.mobilenet import preprocess_input\n",
    "from tensorflow.keras.layers import PReLU\n",
    "from tensorflow.keras.optimizers import RMSprop\n",
    "\n",
    "from tensorflow.keras.callbacks import ReduceLROnPlateau\n",
    "\n",
    "import keras\n",
    "from tensorflow.python.keras.metrics import Metric\n",
    "\n",
    "base_model = MobileNet(input_shape=(164,164,3), include_top=False,weights='imagenet')\n",
    "\n",
    "for layer in base_model.layers[:-7]:\n",
    "    layer.trainable=False\n",
    "\n",
    " \n",
    "model=Sequential()\n",
    "model.add(base_model)\n",
    "model.add(Flatten())\n",
    "model.add(Dropout(0.5))\n",
    "\n",
    "\n",
    "model.add(Dense(2,activation='sigmoid'))\n",
    "#model.add(Dense(1))\n",
    "#model.add(Activation(\"sigmoid\"))\n",
    "model.summary()"
   ]
  },
  {
   "cell_type": "code",
   "execution_count": 4,
   "id": "d87c7cf9",
   "metadata": {},
   "outputs": [
    {
     "name": "stderr",
     "output_type": "stream",
     "text": [
      "F:\\Anaconda\\lib\\site-packages\\keras\\optimizer_v2\\rmsprop.py:130: UserWarning: The `lr` argument is deprecated, use `learning_rate` instead.\n",
      "  super(RMSprop, self).__init__(name, **kwargs)\n"
     ]
    }
   ],
   "source": [
    "from tensorflow.keras.callbacks import ReduceLROnPlateau\n",
    "\n",
    "\n",
    "reduce_learning_rate = ReduceLROnPlateau(monitor='loss',\n",
    "                                         factor=0.1,\n",
    "                                         patience=3,\n",
    "                                         cooldown=2,\n",
    "                                         min_lr=1e-10,\n",
    "                                         verbose=1)\n",
    "\n",
    "checkpoint =tf.keras.callbacks.ModelCheckpoint(filepath=\"mobilenet.h5\", \n",
    "                            monitor='val_accuracy',\n",
    "                            verbose=1,\n",
    "                            save_best_only=True, \n",
    "                            save_weights_only=False, \n",
    "                            mode='auto',\n",
    "                            save_freq='epoch')\n",
    "\n",
    "\n",
    "import time\n",
    "class TimeHistory(tf.keras.callbacks.Callback):\n",
    "    def on_train_begin(self, logs={}):\n",
    "        self.times = []\n",
    "\n",
    "    def on_epoch_begin(self, batch, logs={}):\n",
    "        self.epoch_time_start = time.time()\n",
    "\n",
    "    def on_epoch_end(self, batch, logs={}):\n",
    "        self.times.append(time.time() - self.epoch_time_start)\n",
    "\n",
    "time_callback = TimeHistory()\n",
    "\n",
    "callbacks = [reduce_learning_rate, checkpoint, time_callback]\n",
    "optimizer = RMSprop(lr=0.001, rho=0.9, epsilon=1e-08, decay=0.0)\n",
    "model.compile( loss='binary_crossentropy',optimizer= optimizer, metrics=['accuracy',keras.metrics.Precision(),keras.metrics.Recall()])"
   ]
  },
  {
   "cell_type": "code",
   "execution_count": 15,
   "id": "39ce9f83",
   "metadata": {},
   "outputs": [
    {
     "name": "stdout",
     "output_type": "stream",
     "text": [
      "Found 4173 images belonging to 2 classes.\n",
      "Found 2 images belonging to 2 classes.\n"
     ]
    }
   ],
   "source": [
    "val_dir = r'E:\\AB\\UEM\\year 3\\SEM 6\\pneumonia_binary\\val'\n",
    "\n",
    "base_dn = r'E:\\AB\\UEM\\year 3\\SEM 6\\chest_xray\\train'\n",
    "val_dn = r'E:\\AB\\UEM\\year 3\\SEM 6\\chest_xray\\val'\n",
    "train_generator = datagen.flow_from_directory(\n",
    "        base_dn,  # This is the source directory for training images\n",
    "        target_size=(img_h,img_w),  \n",
    "        batch_size=batch_size,\n",
    "        class_mode='categorical',\n",
    "        subset='training',\n",
    "        #color_mode=\"rgb\",\n",
    "        shuffle=True)\n",
    "\n",
    "\n",
    "validation_generator = datagen.flow_from_directory(\n",
    "        val_dn,     \n",
    "        target_size=(img_h, img_w),\n",
    "        batch_size=batch_size,\n",
    "        class_mode='categorical',\n",
    "        #color_mode=\"rgb\",\n",
    "        subset='validation',\n",
    "        shuffle=False)"
   ]
  },
  {
   "cell_type": "code",
   "execution_count": null,
   "id": "2a65e12c",
   "metadata": {},
   "outputs": [],
   "source": [
    "'''X_train, X_test, y_train, y_test = train_test_split(train, test,\n",
    "    test_size=0.2, shuffle = True, random_state = 8)\n",
    "X_train, X_val, y_train, y_val = train_test_split(X_train, y_train, \n",
    "    test_size=0.25, random_state= 8)'''"
   ]
  },
  {
   "cell_type": "code",
   "execution_count": 16,
   "id": "ad600e33",
   "metadata": {},
   "outputs": [
    {
     "name": "stdout",
     "output_type": "stream",
     "text": [
      "Epoch 1/5\n",
      "521/521 [==============================] - ETA: 0s - loss: 0.7722 - accuracy: 0.9402 - precision: 0.9381 - recall: 0.9383WARNING:tensorflow:Can save best model only with val_accuracy available, skipping.\n",
      "521/521 [==============================] - 169s 325ms/step - loss: 0.7722 - accuracy: 0.9402 - precision: 0.9381 - recall: 0.9383 - lr: 0.0010\n",
      "Epoch 2/5\n",
      "521/521 [==============================] - ETA: 0s - loss: 0.7932 - accuracy: 0.9445 - precision: 0.9438 - recall: 0.9443WARNING:tensorflow:Can save best model only with val_accuracy available, skipping.\n",
      "521/521 [==============================] - 259s 498ms/step - loss: 0.7932 - accuracy: 0.9445 - precision: 0.9438 - recall: 0.9443 - lr: 0.0010\n",
      "Epoch 3/5\n",
      "521/521 [==============================] - ETA: 0s - loss: 0.7315 - accuracy: 0.9465 - precision: 0.9431 - recall: 0.9436WARNING:tensorflow:Can save best model only with val_accuracy available, skipping.\n",
      "521/521 [==============================] - 321s 616ms/step - loss: 0.7315 - accuracy: 0.9465 - precision: 0.9431 - recall: 0.9436 - lr: 0.0010\n",
      "Epoch 4/5\n",
      "521/521 [==============================] - ETA: 0s - loss: 0.7372 - accuracy: 0.9496 - precision: 0.9486 - recall: 0.9491WARNING:tensorflow:Can save best model only with val_accuracy available, skipping.\n",
      "521/521 [==============================] - 290s 556ms/step - loss: 0.7372 - accuracy: 0.9496 - precision: 0.9486 - recall: 0.9491 - lr: 0.0010\n",
      "Epoch 5/5\n",
      "521/521 [==============================] - ETA: 0s - loss: 0.7582 - accuracy: 0.9561 - precision: 0.9537 - recall: 0.9546  ETA: 15s - losWARNING:tensorflow:Can save best model only with val_accuracy available, skipping.\n",
      "521/521 [==============================] - 174s 333ms/step - loss: 0.7582 - accuracy: 0.9561 - precision: 0.9537 - recall: 0.9546 - lr: 0.0010\n"
     ]
    }
   ],
   "source": [
    "#es_callback = keras.callbacks.EarlyStopping(monitor='loss', patience=3)\n",
    "history = model.fit(\n",
    "      train_generator,\n",
    "      steps_per_epoch=train_generator.samples//batch_size, \n",
    "      epochs=5,\n",
    "      validation_data=validation_generator,\n",
    "      validation_steps=validation_generator.samples//batch_size,  \n",
    "      callbacks=callbacks,\n",
    "      verbose=1)\n"
   ]
  },
  {
   "cell_type": "code",
   "execution_count": 17,
   "id": "cf4d0ca8",
   "metadata": {},
   "outputs": [
    {
     "name": "stdout",
     "output_type": "stream",
     "text": [
      "1/1 [==============================] - 0s 266ms/step - loss: 2.0923 - accuracy: 0.5000 - precision: 0.6667 - recall: 1.0000\n"
     ]
    },
    {
     "data": {
      "text/plain": [
       "[2.092266082763672, 0.5, 0.6666666865348816, 1.0]"
      ]
     },
     "execution_count": 17,
     "metadata": {},
     "output_type": "execute_result"
    }
   ],
   "source": [
    "model.evaluate(validation_generator,verbose=1)"
   ]
  },
  {
   "cell_type": "code",
   "execution_count": 16,
   "id": "e0de71c4",
   "metadata": {},
   "outputs": [
    {
     "data": {
      "image/png": "[encoded data removed]",
      "text/plain": [
       "<Figure size 432x288 with 1 Axes>"
      ]
     },
     "metadata": {
      "needs_background": "light"
     },
     "output_type": "display_data"
    }
   ],
   "source": [
    "from matplotlib import pyplot as plt \n",
    "plt.plot(history.history['accuracy'])\n",
    "plt.plot(history.history['val_accuracy'])\n",
    "plt.title('model accuracy')\n",
    "plt.ylabel('accuracy')\n",
    "plt.xlabel('epoch')\n",
    "plt.legend(['train', 'validation'], loc='upper left')\n",
    "plt.show()"
   ]
  },
  {
   "cell_type": "code",
   "execution_count": 17,
   "id": "e15b3eb0",
   "metadata": {},
   "outputs": [
    {
     "data": {
      "image/png": "[encoded data removed]",
      "text/plain": [
       "<Figure size 432x288 with 1 Axes>"
      ]
     },
     "metadata": {
      "needs_background": "light"
     },
     "output_type": "display_data"
    }
   ],
   "source": [
    "plt.plot(history.history['loss'])\n",
    "plt.plot(history.history['val_loss'])\n",
    "plt.title('model loss')\n",
    "plt.ylabel('loss')\n",
    "plt.xlabel('epoch')\n",
    "plt.legend(['train', 'val'], loc='upper left')\n",
    "plt.show()"
   ]
  },
  {
   "cell_type": "code",
   "execution_count": 18,
   "id": "b5c71fcb",
   "metadata": {},
   "outputs": [
    {
     "name": "stdout",
     "output_type": "stream",
     "text": [
      "0.9750000238418579 at epoch number- 1\n"
     ]
    }
   ],
   "source": [
    "accu= history.history['val_accuracy']\n",
    "print(max(accu),\"at epoch number-\",accu.index(max(accu))+1)"
   ]
  },
  {
   "cell_type": "code",
   "execution_count": 18,
   "id": "86dcf5c7",
   "metadata": {},
   "outputs": [
    {
     "name": "stdout",
     "output_type": "stream",
     "text": [
      "Not\n"
     ]
    }
   ],
   "source": [
    "img = cv2.imread(\"E:\\\\AB\\\\UEM\\\\year 3\\\\SEM 6\\\\pneumonia_binary\\\\train\\\\opacity\\\\person434_virus_883.jpeg\") \n",
    "image_resized= cv2.resize(img, (img_h,img_w))\n",
    "'''cv2.imshow('CT scan', img)\n",
    "cv2.waitKey(0)\n",
    "E:\\\\AB\\\\UEM\\\\year 3\\\\SEM 6\\\\pneumonia_binary\\\\val\\\\normal\\\\NORMAL2-IM-1261-0001.jpeg\n",
    "E:\\\\AB\\\\UEM\\\\year 3\\\\SEM 6\\\\pneumonia_binary\\\\test\\\\opacity\\\\person17_virus_48.jpeg\n",
    "E:\\\\AB\\\\UEM\\\\year 3\\\\SEM 6\\\\pneumonia_binary\\\\val\\\\normal\\\\NORMAL2-IM-1102-0001-0002.jpeg\n",
    "E:\\\\AB\\\\UEM\\\\year 3\\\\SEM 6\\\\pneumonia_binary\\\\val\\\\opacity\\\\person1453_bacteria_3771.jpeg\n",
    "E:\\\\AB\\\\UEM\\\\year 3\\\\SEM 6\\\\pneumonia_binary\\\\test\\\\opacity\\\\person47_virus_99.jpeg\n",
    "E:\\\\AB\\\\UEM\\\\year 3\\\\SEM 6\\\\pneumonia_binary\\\\val\\\\opacity\\\\person1454_bacteria_3778.jpeg\n",
    "E:\\\\AB\\\\UEM\\\\year 3\\\\SEM 6\\\\pneumonia_binary\\\\val\\\\opacity\\\\person1449_bacteria_3743.jpeg\n",
    "E:\\\\AB\\\\UEM\\\\year 3\\\\SEM 6\\\\pneumonia_binary\\\\train\\\\opacity\\\\person28_bacteria_142.jpeg\n",
    "E:\\\\AB\\\\UEM\\\\year 3\\\\SEM 6\\\\pneumonia_binary\\\\train\\\\opacity\\\\person434_virus_883.jpeg\n",
    "'''\n",
    "img=np.expand_dims(image_resized,axis=0)\n",
    "np.set_printoptions(suppress=True)\n",
    "pred=model.predict(img)\n",
    "#print(pred);\n",
    "yn=np.argmax(pred,axis=1)\n",
    "if yn==0:\n",
    "    print(\"Pneumonia\")\n",
    "else :\n",
    "    print(\"Not\")"
   ]
  },
  {
   "cell_type": "code",
   "execution_count": 12,
   "id": "c34401fe",
   "metadata": {},
   "outputs": [
    {
     "data": {
      "text/plain": [
       "array([[0., 1.]], dtype=float32)"
      ]
     },
     "execution_count": 12,
     "metadata": {},
     "output_type": "execute_result"
    }
   ],
   "source": [
    "pred"
   ]
  },
  {
   "cell_type": "code",
   "execution_count": 13,
   "id": "77cebf77",
   "metadata": {},
   "outputs": [
    {
     "name": "stdout",
     "output_type": "stream",
     "text": [
      "26/26 [==============================] - 10s 361ms/step\n"
     ]
    },
    {
     "data": {
      "text/plain": [
       "array([[ 46,   7],\n",
       "       [  1, 153]], dtype=int64)"
      ]
     },
     "execution_count": 13,
     "metadata": {},
     "output_type": "execute_result"
    }
   ],
   "source": [
    "model2= tf.keras.models.load_model(\"mobilenet.h5\")\n",
    "y_pred= model2.predict(validation_generator,verbose=1)\n",
    "y_true= validation_generator.classes\n",
    "y_pred2= np.argmax(y_pred,axis=1)\n",
    "\n",
    "from sklearn.metrics import confusion_matrix\n",
    "\n",
    "cf=confusion_matrix(y_true, y_pred2)\n",
    "cf"
   ]
  },
  {
   "cell_type": "code",
   "execution_count": null,
   "id": "ea7806db",
   "metadata": {},
   "outputs": [],
   "source": []
  }
 ],
 "metadata": {
  "kernelspec": {
   "display_name": "Python 3 (ipykernel)",
   "language": "python",
   "name": "python3"
  },
  "language_info": {
   "codemirror_mode": {
    "name": "ipython",
    "version": 3
   },
   "file_extension": ".py",
   "mimetype": "text/x-python",
   "name": "python",
   "nbconvert_exporter": "python",
   "pygments_lexer": "ipython3",
   "version": "3.9.7"
  }
 },
 "nbformat": 4,
 "nbformat_minor": 5
}
