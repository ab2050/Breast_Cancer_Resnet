{
 "cells": [
  {
   "cell_type": "code",
   "execution_count": 1,
   "id": "6c6885c8",
   "metadata": {},
   "outputs": [],
   "source": [
    "import tensorflow as tf\n",
    "from tensorflow.keras.preprocessing.image import ImageDataGenerator\n",
    "from tensorflow.keras.models import Sequential\n",
    "from tensorflow.keras.layers import Conv2D, MaxPooling2D\n",
    "from tensorflow.keras.layers import Activation, Dropout, Flatten, Dense, BatchNormalization\n",
    "import os\n",
    "import pandas as pd\n",
    "import numpy as np\n",
    "import cv2\n",
    "\n",
    "base_dir = r'E:\\AB\\UEM\\year 3\\SEM 6\\pneumonia_binary\\train'\n",
    "img_h,img_w= (164,164)\n",
    "batch_size=8\n",
    "epochs=3\n",
    "from tensorflow.keras.preprocessing.image import ImageDataGenerator\n",
    "datagen= ImageDataGenerator(horizontal_flip=True, vertical_flip=True,width_shift_range=0.2, height_shift_range=0.2,rescale=1./255,validation_split=0.2)"
   ]
  },
  {
   "cell_type": "code",
   "execution_count": 2,
   "id": "979cdeaf",
   "metadata": {},
   "outputs": [
    {
     "name": "stdout",
     "output_type": "stream",
     "text": [
      "Model: \"sequential\"\n",
      "_________________________________________________________________\n",
      " Layer (type)                Output Shape              Param #   \n",
      "=================================================================\n",
      " resnet50 (Functional)       (None, 2048)              23587712  \n",
      "                                                                 \n",
      " dropout (Dropout)           (None, 2048)              0         \n",
      "                                                                 \n",
      " flatten (Flatten)           (None, 2048)              0         \n",
      "                                                                 \n",
      " dense (Dense)               (None, 2)                 4098      \n",
      "                                                                 \n",
      "=================================================================\n",
      "Total params: 23,591,810\n",
      "Trainable params: 1,059,842\n",
      "Non-trainable params: 22,531,968\n",
      "_________________________________________________________________\n"
     ]
    }
   ],
   "source": [
    "from tensorflow.keras.applications.resnet import ResNet50\n",
    "from tensorflow.keras.applications.vgg19 import VGG19, preprocess_input\n",
    "#from tensorflow.keras.applications.mobilenet_v2 import MobileNetV2 \n",
    "from tensorflow.keras.layers import Flatten,Dense,Dropout,BatchNormalization\n",
    "from tensorflow.keras.models import Model,Sequential\n",
    "from tensorflow.keras.utils import to_categorical\n",
    "from tensorflow.keras.layers import Conv2D, MaxPooling2D, BatchNormalization\n",
    "from tensorflow.keras.layers import PReLU\n",
    "from tensorflow.keras.optimizers import RMSprop\n",
    "\n",
    "from tensorflow.keras.callbacks import ReduceLROnPlateau\n",
    "\n",
    "base_model= ResNet50(include_top=False, weights='imagenet',\n",
    "                                       input_tensor=None, input_shape=(img_h,img_w,3), pooling='avg')\n",
    " \n",
    "for layer in base_model.layers[:-7]:\n",
    "    layer.trainable=False\n",
    "\n",
    " \n",
    "model=Sequential()\n",
    "model.add(base_model)\n",
    "model.add(Dropout(0.2))\n",
    "model.add(Flatten())\n",
    "\n",
    "\n",
    "\n",
    "model.add(Dense(2,activation='sigmoid'))\n",
    "model.summary()"
   ]
  },
  {
   "cell_type": "code",
   "execution_count": 3,
   "id": "b065ca70",
   "metadata": {},
   "outputs": [
    {
     "name": "stdout",
     "output_type": "stream",
     "text": [
      "<keras.engine.input_layer.InputLayer object at 0x0000028490795B50> --> False\n",
      "<keras.layers.convolutional.ZeroPadding2D object at 0x000002849B284400> --> False\n",
      "<keras.layers.convolutional.Conv2D object at 0x000002849B284790> --> False\n",
      "<keras.layers.normalization.batch_normalization.BatchNormalization object at 0x000002849B2F9580> --> False\n",
      "<keras.layers.core.activation.Activation object at 0x000002849B2F9280> --> False\n",
      "<keras.layers.convolutional.ZeroPadding2D object at 0x000002849B331BB0> --> False\n",
      "<keras.layers.pooling.MaxPooling2D object at 0x000002849B487A30> --> False\n",
      "<keras.layers.convolutional.Conv2D object at 0x000002849B4A9C10> --> False\n",
      "<keras.layers.normalization.batch_normalization.BatchNormalization object at 0x000002849B4A4880> --> False\n",
      "<keras.layers.core.activation.Activation object at 0x000002849B284DF0> --> False\n",
      "<keras.layers.convolutional.Conv2D object at 0x000002849B5019D0> --> False\n",
      "<keras.layers.normalization.batch_normalization.BatchNormalization object at 0x000002849B487C70> --> False\n",
      "<keras.layers.core.activation.Activation object at 0x000002849B509040> --> False\n",
      "<keras.layers.convolutional.Conv2D object at 0x000002849B4998B0> --> False\n",
      "<keras.layers.convolutional.Conv2D object at 0x000002849B509B50> --> False\n",
      "<keras.layers.normalization.batch_normalization.BatchNormalization object at 0x000002849B4A4730> --> False\n",
      "<keras.layers.normalization.batch_normalization.BatchNormalization object at 0x000002849B50F790> --> False\n",
      "<keras.layers.merge.Add object at 0x000002849B516400> --> False\n",
      "<keras.layers.core.activation.Activation object at 0x000002849B516E20> --> False\n",
      "<keras.layers.convolutional.Conv2D object at 0x000002849B50F7C0> --> False\n",
      "<keras.layers.normalization.batch_normalization.BatchNormalization object at 0x000002849B523730> --> False\n",
      "<keras.layers.core.activation.Activation object at 0x000002849B509190> --> False\n",
      "<keras.layers.convolutional.Conv2D object at 0x000002849B5279D0> --> False\n",
      "<keras.layers.normalization.batch_normalization.BatchNormalization object at 0x000002849B52C7C0> --> False\n",
      "<keras.layers.core.activation.Activation object at 0x000002849B527CA0> --> False\n",
      "<keras.layers.convolutional.Conv2D object at 0x000002849B51DD90> --> False\n",
      "<keras.layers.normalization.batch_normalization.BatchNormalization object at 0x000002849B53ACA0> --> False\n",
      "<keras.layers.merge.Add object at 0x000002849B535CD0> --> False\n",
      "<keras.layers.core.activation.Activation object at 0x000002849B542160> --> False\n",
      "<keras.layers.convolutional.Conv2D object at 0x000002849B53A670> --> False\n",
      "<keras.layers.normalization.batch_normalization.BatchNormalization object at 0x000002849B54FCA0> --> False\n",
      "<keras.layers.core.activation.Activation object at 0x000002849B554970> --> False\n",
      "<keras.layers.convolutional.Conv2D object at 0x000002849B54FF10> --> False\n",
      "<keras.layers.normalization.batch_normalization.BatchNormalization object at 0x000002849B53AD30> --> False\n",
      "<keras.layers.core.activation.Activation object at 0x000002849B55FA00> --> False\n",
      "<keras.layers.convolutional.Conv2D object at 0x000002849B55A6A0> --> False\n",
      "<keras.layers.normalization.batch_normalization.BatchNormalization object at 0x000002849B56E250> --> False\n",
      "<keras.layers.merge.Add object at 0x000002849B572100> --> False\n",
      "<keras.layers.core.activation.Activation object at 0x000002849B572940> --> False\n",
      "<keras.layers.convolutional.Conv2D object at 0x000002849B580F40> --> False\n",
      "<keras.layers.normalization.batch_normalization.BatchNormalization object at 0x000002849B572AC0> --> False\n",
      "<keras.layers.core.activation.Activation object at 0x000002849B5806D0> --> False\n",
      "<keras.layers.convolutional.Conv2D object at 0x000002849B591B80> --> False\n",
      "<keras.layers.normalization.batch_normalization.BatchNormalization object at 0x000002849B5860A0> --> False\n",
      "<keras.layers.core.activation.Activation object at 0x000002849B59C130> --> False\n",
      "<keras.layers.convolutional.Conv2D object at 0x000002849B56E4C0> --> False\n",
      "<keras.layers.convolutional.Conv2D object at 0x000002849B59CC70> --> False\n",
      "<keras.layers.normalization.batch_normalization.BatchNormalization object at 0x000002849B580250> --> False\n",
      "<keras.layers.normalization.batch_normalization.BatchNormalization object at 0x000002849B5918B0> --> False\n",
      "<keras.layers.merge.Add object at 0x000002849B567BE0> --> False\n",
      "<keras.layers.core.activation.Activation object at 0x000002849B567A30> --> False\n",
      "<keras.layers.convolutional.Conv2D object at 0x000002849B554FD0> --> False\n",
      "<keras.layers.normalization.batch_normalization.BatchNormalization object at 0x000002849B53A370> --> False\n",
      "<keras.layers.core.activation.Activation object at 0x000002849B580340> --> False\n",
      "<keras.layers.convolutional.Conv2D object at 0x000002849B50F820> --> False\n",
      "<keras.layers.normalization.batch_normalization.BatchNormalization object at 0x000002849B506370> --> False\n",
      "<keras.layers.core.activation.Activation object at 0x000002849B516730> --> False\n",
      "<keras.layers.convolutional.Conv2D object at 0x000002849B501F40> --> False\n",
      "<keras.layers.normalization.batch_normalization.BatchNormalization object at 0x000002849B53A1F0> --> False\n",
      "<keras.layers.merge.Add object at 0x000002849B5A4DC0> --> False\n",
      "<keras.layers.core.activation.Activation object at 0x000002849B5A5250> --> False\n",
      "<keras.layers.convolutional.Conv2D object at 0x000002849B501700> --> False\n",
      "<keras.layers.normalization.batch_normalization.BatchNormalization object at 0x000002849B5AEDC0> --> False\n",
      "<keras.layers.core.activation.Activation object at 0x000002849B5B2D00> --> False\n",
      "<keras.layers.convolutional.Conv2D object at 0x000002849B5AEFD0> --> False\n",
      "<keras.layers.normalization.batch_normalization.BatchNormalization object at 0x000002849B56BFD0> --> False\n",
      "<keras.layers.core.activation.Activation object at 0x000002849B5B2D60> --> False\n",
      "<keras.layers.convolutional.Conv2D object at 0x000002849B5B48E0> --> False\n",
      "<keras.layers.normalization.batch_normalization.BatchNormalization object at 0x000002849B5C50A0> --> False\n",
      "<keras.layers.merge.Add object at 0x000002849B5B9340> --> False\n",
      "<keras.layers.core.activation.Activation object at 0x000002849B5CA8E0> --> False\n",
      "<keras.layers.convolutional.Conv2D object at 0x000002849B5C5820> --> False\n",
      "<keras.layers.normalization.batch_normalization.BatchNormalization object at 0x000002849B5D80A0> --> False\n",
      "<keras.layers.core.activation.Activation object at 0x000002849B5D8AC0> --> False\n",
      "<keras.layers.convolutional.Conv2D object at 0x000002849B5D17C0> --> False\n",
      "<keras.layers.normalization.batch_normalization.BatchNormalization object at 0x000002849B5E5130> --> False\n",
      "<keras.layers.core.activation.Activation object at 0x000002849B5C5BB0> --> False\n",
      "<keras.layers.convolutional.Conv2D object at 0x000002849B5EA310> --> False\n",
      "<keras.layers.normalization.batch_normalization.BatchNormalization object at 0x000002849B5F1910> --> False\n",
      "<keras.layers.merge.Add object at 0x000002849B5F55E0> --> False\n",
      "<keras.layers.core.activation.Activation object at 0x000002849B5F5FD0> --> False\n",
      "<keras.layers.convolutional.Conv2D object at 0x000002849B609970> --> False\n",
      "<keras.layers.normalization.batch_normalization.BatchNormalization object at 0x000002849B5FDD90> --> False\n",
      "<keras.layers.core.activation.Activation object at 0x000002849B617490> --> False\n",
      "<keras.layers.convolutional.Conv2D object at 0x000002849B617910> --> False\n",
      "<keras.layers.normalization.batch_normalization.BatchNormalization object at 0x000002849B5FD280> --> False\n",
      "<keras.layers.core.activation.Activation object at 0x000002849B5C5BE0> --> False\n",
      "<keras.layers.convolutional.Conv2D object at 0x000002849B5F1CA0> --> False\n",
      "<keras.layers.convolutional.Conv2D object at 0x000002849B5DEB80> --> False\n",
      "<keras.layers.normalization.batch_normalization.BatchNormalization object at 0x000002849B605910> --> False\n",
      "<keras.layers.normalization.batch_normalization.BatchNormalization object at 0x000002849B5C0FA0> --> False\n",
      "<keras.layers.merge.Add object at 0x000002849B2F9730> --> False\n",
      "<keras.layers.core.activation.Activation object at 0x000002849B5A5BB0> --> False\n",
      "<keras.layers.convolutional.Conv2D object at 0x000002849B58AB80> --> False\n",
      "<keras.layers.normalization.batch_normalization.BatchNormalization object at 0x000002849B567C70> --> False\n",
      "<keras.layers.core.activation.Activation object at 0x000002849B5A9D30> --> False\n",
      "<keras.layers.convolutional.Conv2D object at 0x000002849B55AA00> --> False\n",
      "<keras.layers.normalization.batch_normalization.BatchNormalization object at 0x000002849B5B4F40> --> False\n",
      "<keras.layers.core.activation.Activation object at 0x000002849B572BB0> --> False\n",
      "<keras.layers.convolutional.Conv2D object at 0x000002849B55A040> --> False\n",
      "<keras.layers.normalization.batch_normalization.BatchNormalization object at 0x000002849B625160> --> False\n",
      "<keras.layers.merge.Add object at 0x000002849B620790> --> False\n",
      "<keras.layers.core.activation.Activation object at 0x000002849B6289A0> --> False\n",
      "<keras.layers.convolutional.Conv2D object at 0x000002849B6256D0> --> False\n",
      "<keras.layers.normalization.batch_normalization.BatchNormalization object at 0x000002849B633160> --> False\n",
      "<keras.layers.core.activation.Activation object at 0x000002849B633B80> --> False\n",
      "<keras.layers.convolutional.Conv2D object at 0x000002849B62D8B0> --> False\n",
      "<keras.layers.normalization.batch_normalization.BatchNormalization object at 0x000002849B63E250> --> False\n",
      "<keras.layers.core.activation.Activation object at 0x000002849B625C70> --> False\n",
      "<keras.layers.convolutional.Conv2D object at 0x00000284A1674670> --> False\n",
      "<keras.layers.normalization.batch_normalization.BatchNormalization object at 0x00000284A1679A30> --> False\n",
      "<keras.layers.merge.Add object at 0x00000284A1674AC0> --> False\n",
      "<keras.layers.core.activation.Activation object at 0x00000284A1680F40> --> False\n",
      "<keras.layers.convolutional.Conv2D object at 0x00000284A1679B50> --> False\n",
      "<keras.layers.normalization.batch_normalization.BatchNormalization object at 0x00000284A168EA30> --> False\n",
      "<keras.layers.core.activation.Activation object at 0x00000284A16924C0> --> False\n",
      "<keras.layers.convolutional.Conv2D object at 0x00000284A1692C10> --> False\n",
      "<keras.layers.normalization.batch_normalization.BatchNormalization object at 0x00000284A1698AC0> --> False\n",
      "<keras.layers.core.activation.Activation object at 0x00000284A1692190> --> False\n",
      "<keras.layers.convolutional.Conv2D object at 0x00000284A168E5B0> --> False\n",
      "<keras.layers.normalization.batch_normalization.BatchNormalization object at 0x00000284A16A5FA0> --> False\n",
      "<keras.layers.merge.Add object at 0x000002849B628D90> --> False\n",
      "<keras.layers.core.activation.Activation object at 0x00000284A16B0E20> --> False\n",
      "<keras.layers.convolutional.Conv2D object at 0x00000284A16ACDC0> --> False\n",
      "<keras.layers.normalization.batch_normalization.BatchNormalization object at 0x00000284A16B8FA0> --> False\n",
      "<keras.layers.core.activation.Activation object at 0x00000284A16BCC70> --> False\n",
      "<keras.layers.convolutional.Conv2D object at 0x00000284A16BC7C0> --> False\n",
      "<keras.layers.normalization.batch_normalization.BatchNormalization object at 0x00000284A169DE50> --> False\n",
      "<keras.layers.core.activation.Activation object at 0x00000284A16BC070> --> False\n",
      "<keras.layers.convolutional.Conv2D object at 0x00000284A1679580> --> False\n",
      "<keras.layers.normalization.batch_normalization.BatchNormalization object at 0x000002849B637490> --> False\n",
      "<keras.layers.merge.Add object at 0x00000284A1692340> --> False\n",
      "<keras.layers.core.activation.Activation object at 0x000002849B612C10> --> False\n",
      "<keras.layers.convolutional.Conv2D object at 0x000002849B611FA0> --> False\n",
      "<keras.layers.normalization.batch_normalization.BatchNormalization object at 0x000002849B5DE280> --> False\n",
      "<keras.layers.core.activation.Activation object at 0x000002849B62D670> --> False\n",
      "<keras.layers.convolutional.Conv2D object at 0x00000284A16C2790> --> False\n",
      "<keras.layers.normalization.batch_normalization.BatchNormalization object at 0x00000284A16C8280> --> False\n",
      "<keras.layers.core.activation.Activation object at 0x00000284A16C2C70> --> False\n",
      "<keras.layers.convolutional.Conv2D object at 0x00000284A16C9B20> --> False\n",
      "<keras.layers.normalization.batch_normalization.BatchNormalization object at 0x00000284A16CBA90> --> False\n",
      "<keras.layers.merge.Add object at 0x000002849B612250> --> False\n",
      "<keras.layers.core.activation.Activation object at 0x00000284A16D1FD0> --> False\n",
      "<keras.layers.convolutional.Conv2D object at 0x00000284A16DB670> --> False\n",
      "<keras.layers.normalization.batch_normalization.BatchNormalization object at 0x00000284A16D3FA0> --> False\n",
      "<keras.layers.core.activation.Activation object at 0x00000284A16C88E0> --> False\n",
      "<keras.layers.convolutional.Conv2D object at 0x00000284A16EA760> --> False\n",
      "<keras.layers.normalization.batch_normalization.BatchNormalization object at 0x00000284A16EFBB0> --> False\n",
      "<keras.layers.core.activation.Activation object at 0x00000284A16CBD30> --> False\n",
      "<keras.layers.convolutional.Conv2D object at 0x00000284A16CBB80> --> False\n",
      "<keras.layers.convolutional.Conv2D object at 0x00000284A16FD490> --> False\n",
      "<keras.layers.normalization.batch_normalization.BatchNormalization object at 0x00000284A16DBA90> --> False\n",
      "<keras.layers.normalization.batch_normalization.BatchNormalization object at 0x00000284A16E6EB0> --> False\n",
      "<keras.layers.merge.Add object at 0x00000284A17095B0> --> False\n",
      "<keras.layers.core.activation.Activation object at 0x00000284A1709FD0> --> False\n",
      "<keras.layers.convolutional.Conv2D object at 0x00000284A1705850> --> False\n",
      "<keras.layers.normalization.batch_normalization.BatchNormalization object at 0x00000284A1710D90> --> False\n",
      "<keras.layers.core.activation.Activation object at 0x00000284A16F8B20> --> False\n",
      "<keras.layers.convolutional.Conv2D object at 0x00000284A1716970> --> False\n",
      "<keras.layers.normalization.batch_normalization.BatchNormalization object at 0x00000284A171CE20> --> False\n",
      "<keras.layers.core.activation.Activation object at 0x00000284A1716EB0> --> False\n",
      "<keras.layers.convolutional.Conv2D object at 0x00000284A171CF70> --> False\n",
      "<keras.layers.normalization.batch_normalization.BatchNormalization object at 0x00000284A172E340> --> False\n",
      "<keras.layers.merge.Add object at 0x00000284A1734310> --> False\n",
      "<keras.layers.core.activation.Activation object at 0x00000284A1734D30> --> False\n",
      "<keras.layers.convolutional.Conv2D object at 0x00000284A172EE80> --> False\n",
      "<keras.layers.normalization.batch_normalization.BatchNormalization object at 0x00000284A17103D0> --> False\n",
      "<keras.layers.core.activation.Activation object at 0x00000284A16DBCA0> --> False\n",
      "<keras.layers.convolutional.Conv2D object at 0x00000284A16EA1C0> --> False\n",
      "<keras.layers.normalization.batch_normalization.BatchNormalization object at 0x00000284A16D3AC0> --> True\n",
      "<keras.layers.core.activation.Activation object at 0x00000284A16EF520> --> True\n",
      "<keras.layers.convolutional.Conv2D object at 0x00000284A16A7D30> --> True\n",
      "<keras.layers.normalization.batch_normalization.BatchNormalization object at 0x000002849B637730> --> True\n",
      "<keras.layers.merge.Add object at 0x00000284A1680A00> --> True\n",
      "<keras.layers.core.activation.Activation object at 0x00000284A173D100> --> True\n",
      "<keras.layers.pooling.GlobalAveragePooling2D object at 0x00000284A171C0D0> --> True\n"
     ]
    }
   ],
   "source": [
    "for layer in base_model.layers:\n",
    "    print(layer,\"-->\",layer.trainable)"
   ]
  },
  {
   "cell_type": "code",
   "execution_count": 3,
   "id": "47c261e3",
   "metadata": {},
   "outputs": [
    {
     "name": "stderr",
     "output_type": "stream",
     "text": [
      "F:\\Anaconda\\lib\\site-packages\\keras\\optimizer_v2\\rmsprop.py:130: UserWarning: The `lr` argument is deprecated, use `learning_rate` instead.\n",
      "  super(RMSprop, self).__init__(name, **kwargs)\n"
     ]
    }
   ],
   "source": [
    "from tensorflow.keras.optimizers import Adam,SGD,Adagrad,Adadelta,RMSprop\n",
    "from tensorflow.keras.callbacks import ReduceLROnPlateau\n",
    "import keras\n",
    "\n",
    "reduce_learning_rate = ReduceLROnPlateau(monitor='loss',\n",
    "                                         factor=0.1,\n",
    "                                         patience=3,\n",
    "                                         cooldown=2,\n",
    "                                         min_lr=1e-10,\n",
    "                                         verbose=1)\n",
    "\n",
    "checkpoint =tf.keras.callbacks.ModelCheckpoint(filepath=\"RES.h5\", \n",
    "                            monitor='val_accuracy',\n",
    "                            verbose=1,\n",
    "                            save_best_only=True, \n",
    "                            save_weights_only=False, \n",
    "                            mode='auto',\n",
    "                            save_freq='epoch')\n",
    "\n",
    "\n",
    "import time\n",
    "class TimeHistory(tf.keras.callbacks.Callback):\n",
    "    def on_train_begin(self, logs={}):\n",
    "        self.times = []\n",
    "\n",
    "    def on_epoch_begin(self, batch, logs={}):\n",
    "        self.epoch_time_start = time.time()\n",
    "\n",
    "    def on_epoch_end(self, batch, logs={}):\n",
    "        self.times.append(time.time() - self.epoch_time_start)\n",
    "\n",
    "time_callback = TimeHistory()\n",
    "\n",
    "callbacks = [reduce_learning_rate, checkpoint, time_callback]\n",
    "optimizer = RMSprop(lr=0.001, rho=0.9, epsilon=1e-08, decay=0.0)\n",
    "model.compile( loss='binary_crossentropy',optimizer= optimizer, metrics=['accuracy',keras.metrics.Precision(),keras.metrics.Recall()])"
   ]
  },
  {
   "cell_type": "code",
   "execution_count": 4,
   "id": "cfff6a4e",
   "metadata": {},
   "outputs": [
    {
     "name": "stdout",
     "output_type": "stream",
     "text": [
      "Found 3354 images belonging to 2 classes.\n",
      "Found 838 images belonging to 2 classes.\n"
     ]
    }
   ],
   "source": [
    "val_dir = r'E:\\AB\\UEM\\year 3\\SEM 6\\pneumonia_binary\\train'\n",
    "train_generator = datagen.flow_from_directory(\n",
    "        base_dir,  # This is the source directory for training images\n",
    "        target_size=(img_h,img_w),  \n",
    "        batch_size=batch_size,\n",
    "        class_mode='categorical',\n",
    "        subset='training',\n",
    "        #color_mode=\"rgb\",\n",
    "        shuffle=True)\n",
    "\n",
    "\n",
    "validation_generator = datagen.flow_from_directory(\n",
    "         val_dir,     \n",
    "        target_size=(img_h, img_w),\n",
    "        batch_size=batch_size,\n",
    "        class_mode='categorical',\n",
    "        #color_mode=\"rgb\",\n",
    "        subset='validation',\n",
    "        shuffle=False)"
   ]
  },
  {
   "cell_type": "code",
   "execution_count": 3,
   "id": "33ca9d85",
   "metadata": {},
   "outputs": [
    {
     "data": {
      "text/plain": [
       "<keras.preprocessing.image.DirectoryIterator at 0x1b39213b700>"
      ]
     },
     "execution_count": 3,
     "metadata": {},
     "output_type": "execute_result"
    }
   ],
   "source": [
    "validation_generator"
   ]
  },
  {
   "cell_type": "code",
   "execution_count": 5,
   "id": "aa005dff",
   "metadata": {},
   "outputs": [
    {
     "name": "stdout",
     "output_type": "stream",
     "text": [
      "Epoch 1/10\n",
      "419/419 [==============================] - ETA: 0s - loss: 0.5062 - accuracy: 0.7567 - precision: 0.7549 - recall: 0.7531\n",
      "Epoch 00001: val_accuracy improved from -inf to 0.76683, saving model to RES.h5\n"
     ]
    },
    {
     "name": "stderr",
     "output_type": "stream",
     "text": [
      "F:\\Anaconda\\lib\\site-packages\\keras\\engine\\functional.py:1410: CustomMaskWarning: Custom mask layers require a config and must override get_config. When loading, the custom mask layer must be passed to the custom_objects argument.\n",
      "  layer_config = serialize_layer_fn(layer)\n"
     ]
    },
    {
     "name": "stdout",
     "output_type": "stream",
     "text": [
      "419/419 [==============================] - 274s 633ms/step - loss: 0.5062 - accuracy: 0.7567 - precision: 0.7549 - recall: 0.7531 - val_loss: 0.5293 - val_accuracy: 0.7668 - val_precision: 0.7691 - val_recall: 0.7608 - lr: 0.0010\n",
      "Epoch 2/10\n",
      "419/419 [==============================] - ETA: 0s - loss: 0.4307 - accuracy: 0.7926 - precision: 0.7871 - recall: 0.7869\n",
      "Epoch 00002: val_accuracy did not improve from 0.76683\n",
      "419/419 [==============================] - 220s 524ms/step - loss: 0.4307 - accuracy: 0.7926 - precision: 0.7871 - recall: 0.7869 - val_loss: 0.5649 - val_accuracy: 0.7560 - val_precision: 0.7557 - val_recall: 0.7584 - lr: 0.0010\n",
      "Epoch 3/10\n",
      "419/419 [==============================] - ETA: 0s - loss: 0.4252 - accuracy: 0.7860 - precision: 0.7878 - recall: 0.7845\n",
      "Epoch 00003: val_accuracy improved from 0.76683 to 0.80409, saving model to RES.h5\n",
      "419/419 [==============================] - 219s 523ms/step - loss: 0.4252 - accuracy: 0.7860 - precision: 0.7878 - recall: 0.7845 - val_loss: 0.3782 - val_accuracy: 0.8041 - val_precision: 0.7983 - val_recall: 0.8089 - lr: 0.0010\n",
      "Epoch 4/10\n",
      "419/419 [==============================] - ETA: 0s - loss: 0.4054 - accuracy: 0.8060 - precision: 0.8046 - recall: 0.8060\n",
      "Epoch 00004: val_accuracy did not improve from 0.80409\n",
      "419/419 [==============================] - 239s 571ms/step - loss: 0.4054 - accuracy: 0.8060 - precision: 0.8046 - recall: 0.8060 - val_loss: 0.4253 - val_accuracy: 0.8005 - val_precision: 0.8059 - val_recall: 0.7933 - lr: 0.0010\n",
      "Epoch 5/10\n",
      "419/419 [==============================] - ETA: 0s - loss: 0.3927 - accuracy: 0.8102 - precision: 0.8084 - recall: 0.8096\n",
      "Epoch 00005: val_accuracy improved from 0.80409 to 0.80889, saving model to RES.h5\n",
      "419/419 [==============================] - 223s 533ms/step - loss: 0.3927 - accuracy: 0.8102 - precision: 0.8084 - recall: 0.8096 - val_loss: 0.3609 - val_accuracy: 0.8089 - val_precision: 0.8079 - val_recall: 0.8089 - lr: 0.0010\n",
      "Epoch 6/10\n",
      "419/419 [==============================] - ETA: 0s - loss: 0.3685 - accuracy: 0.8320 - precision: 0.8287 - recall: 0.8326\n",
      "Epoch 00006: val_accuracy improved from 0.80889 to 0.83654, saving model to RES.h5\n",
      "419/419 [==============================] - 229s 548ms/step - loss: 0.3685 - accuracy: 0.8320 - precision: 0.8287 - recall: 0.8326 - val_loss: 0.3519 - val_accuracy: 0.8365 - val_precision: 0.8384 - val_recall: 0.8353 - lr: 0.0010\n",
      "Epoch 7/10\n",
      "419/419 [==============================] - ETA: 0s - loss: 0.3597 - accuracy: 0.8347 - precision: 0.8325 - recall: 0.8335\n",
      "Epoch 00007: val_accuracy improved from 0.83654 to 0.84736, saving model to RES.h5\n",
      "419/419 [==============================] - 239s 570ms/step - loss: 0.3597 - accuracy: 0.8347 - precision: 0.8325 - recall: 0.8335 - val_loss: 0.3413 - val_accuracy: 0.8474 - val_precision: 0.8475 - val_recall: 0.8486 - lr: 0.0010\n",
      "Epoch 8/10\n",
      "419/419 [==============================] - ETA: 0s - loss: 0.3569 - accuracy: 0.8335 - precision: 0.8330 - recall: 0.8350\n",
      "Epoch 00008: val_accuracy did not improve from 0.84736\n",
      "419/419 [==============================] - 227s 542ms/step - loss: 0.3569 - accuracy: 0.8335 - precision: 0.8330 - recall: 0.8350 - val_loss: 0.3299 - val_accuracy: 0.8389 - val_precision: 0.8418 - val_recall: 0.8377 - lr: 0.0010\n",
      "Epoch 9/10\n",
      "419/419 [==============================] - ETA: 0s - loss: 0.3578 - accuracy: 0.8410 - precision: 0.8406 - recall: 0.8401\n",
      "Epoch 00009: val_accuracy did not improve from 0.84736\n",
      "419/419 [==============================] - 239s 569ms/step - loss: 0.3578 - accuracy: 0.8410 - precision: 0.8406 - recall: 0.8401 - val_loss: 0.3283 - val_accuracy: 0.8438 - val_precision: 0.8433 - val_recall: 0.8474 - lr: 0.0010\n",
      "Epoch 10/10\n",
      "419/419 [==============================] - ETA: 0s - loss: 0.3542 - accuracy: 0.8302 - precision: 0.8298 - recall: 0.8305\n",
      "Epoch 00010: val_accuracy improved from 0.84736 to 0.85096, saving model to RES.h5\n",
      "419/419 [==============================] - 235s 561ms/step - loss: 0.3542 - accuracy: 0.8302 - precision: 0.8298 - recall: 0.8305 - val_loss: 0.3366 - val_accuracy: 0.8510 - val_precision: 0.8510 - val_recall: 0.8510 - lr: 0.0010\n"
     ]
    }
   ],
   "source": [
    "history = model.fit(\n",
    "      train_generator,\n",
    "      steps_per_epoch=train_generator.samples//batch_size, \n",
    "      epochs=10,\n",
    "      validation_data=validation_generator,\n",
    "      validation_steps=validation_generator.samples//batch_size,  \n",
    "      callbacks=callbacks,\n",
    "      verbose=1)"
   ]
  },
  {
   "cell_type": "code",
   "execution_count": 6,
   "id": "1562a1e1",
   "metadata": {},
   "outputs": [
    {
     "data": {
      "image/png": "[encoded data removed]",
      "text/plain": [
       "<Figure size 432x288 with 1 Axes>"
      ]
     },
     "metadata": {
      "needs_background": "light"
     },
     "output_type": "display_data"
    }
   ],
   "source": [
    "from matplotlib import pyplot as plt\n",
    "plt.plot(history.history['accuracy'])\n",
    "plt.plot(history.history['val_accuracy'])\n",
    "plt.title('model accuracy')\n",
    "plt.ylabel('accuracy')\n",
    "plt.xlabel('epochs')\n",
    "plt.legend(['train','validation'],loc='upper left')\n",
    "plt.show()"
   ]
  },
  {
   "cell_type": "code",
   "execution_count": 7,
   "id": "2bc7ffa8",
   "metadata": {},
   "outputs": [
    {
     "data": {
      "image/png": "[encoded data removed]",
      "text/plain": [
       "<Figure size 432x288 with 1 Axes>"
      ]
     },
     "metadata": {
      "needs_background": "light"
     },
     "output_type": "display_data"
    }
   ],
   "source": [
    "from matplotlib import pyplot as plt\n",
    "plt.plot(history.history['loss'])\n",
    "plt.plot(history.history['val_loss'])\n",
    "plt.title('model loss')\n",
    "plt.ylabel('loss')\n",
    "plt.xlabel('epochs')\n",
    "plt.legend(['train','validation'],loc='upper left')\n",
    "plt.show()"
   ]
  },
  {
   "cell_type": "code",
   "execution_count": 7,
   "id": "aa90d142",
   "metadata": {},
   "outputs": [
    {
     "name": "stdout",
     "output_type": "stream",
     "text": [
      "105/105 [==============================] - 42s 403ms/step - loss: 0.3955 - accuracy: 0.7852 - precision: 0.7855 - recall: 0.7864\n"
     ]
    },
    {
     "data": {
      "text/plain": [
       "[0.39552852511405945,\n",
       " 0.7852028608322144,\n",
       " 0.7854588627815247,\n",
       " 0.7863962054252625]"
      ]
     },
     "execution_count": 7,
     "metadata": {},
     "output_type": "execute_result"
    }
   ],
   "source": [
    "model.evaluate(validation_generator,verbose=1)"
   ]
  },
  {
   "cell_type": "code",
   "execution_count": 34,
   "id": "e1fd1f5f",
   "metadata": {},
   "outputs": [
    {
     "name": "stdout",
     "output_type": "stream",
     "text": [
      "0.8449519276618958 at epoch number- 9\n"
     ]
    }
   ],
   "source": [
    "accu= history.history['val_accuracy']\n",
    "print(max(accu),\"at epoch number-\",accu.index(max(accu))+1)"
   ]
  },
  {
   "cell_type": "code",
   "execution_count": 11,
   "id": "ac89e4db",
   "metadata": {},
   "outputs": [
    {
     "name": "stdout",
     "output_type": "stream",
     "text": [
      "Not\n"
     ]
    }
   ],
   "source": [
    "img = cv2.imread(\"E:\\\\AB\\\\UEM\\\\year 3\\\\SEM 6\\\\pneumonia_binary\\\\val\\\\normal\\\\NORMAL2-IM-1261-0001.jpeg\") \n",
    "image_resized= cv2.resize(img, (img_h,img_w))\n",
    "\n",
    "img=np.expand_dims(image_resized,axis=0)\n",
    "np.set_printoptions(suppress=True)\n",
    "pred=model.predict(img)\n",
    "#print(pred);\n",
    "yn=np.argmax(pred,axis=1)\n",
    "if yn==0:\n",
    "    print(\"Pneumonia\")\n",
    "else :\n",
    "    print(\"Not\")"
   ]
  },
  {
   "cell_type": "code",
   "execution_count": null,
   "id": "9799a2cd",
   "metadata": {},
   "outputs": [],
   "source": [
    "'''cv2.imshow('CT scan', img)\n",
    "cv2.waitKey(0)\n",
    "E:\\\\AB\\\\UEM\\\\year 3\\\\SEM 6\\\\pneumonia_binary\\\\val\\\\normal\\\\NORMAL2-IM-1261-0001.jpeg\n",
    "E:\\\\AB\\\\UEM\\\\year 3\\\\SEM 6\\\\pneumonia_binary\\\\test\\\\opacity\\\\person17_virus_48.jpeg\n",
    "E:\\\\AB\\\\UEM\\\\year 3\\\\SEM 6\\\\pneumonia_binary\\\\val\\\\normal\\\\NORMAL2-IM-1102-0001-0002.jpeg\n",
    "E:\\\\AB\\\\UEM\\\\year 3\\\\SEM 6\\\\pneumonia_binary\\\\val\\\\opacity\\\\person1453_bacteria_3771.jpeg\n",
    "E:\\\\AB\\\\UEM\\\\year 3\\\\SEM 6\\\\pneumonia_binary\\\\test\\\\opacity\\\\person47_virus_99.jpeg\n",
    "'''"
   ]
  },
  {
   "cell_type": "code",
   "execution_count": 12,
   "id": "d9aee46f",
   "metadata": {},
   "outputs": [
    {
     "data": {
      "text/plain": [
       "array([[0.00000119, 1.        ]], dtype=float32)"
      ]
     },
     "execution_count": 12,
     "metadata": {},
     "output_type": "execute_result"
    }
   ],
   "source": [
    "pred"
   ]
  },
  {
   "cell_type": "code",
   "execution_count": 13,
   "id": "ebcaf4ea",
   "metadata": {},
   "outputs": [
    {
     "name": "stdout",
     "output_type": "stream",
     "text": [
      "105/105 [==============================] - 38s 359ms/step\n"
     ]
    }
   ],
   "source": [
    "model2= tf.keras.models.load_model(\"RES.h5\")\n",
    "y_pred= model2.predict(validation_generator,verbose=1)\n",
    "y_true= validation_generator.classes\n",
    "y_pred2= np.argmax(y_pred,axis=1)\n",
    "\n",
    "#from sklearn.metrics import accuracy_score\n",
    "#print(accuracy_score(y_true,y_pred2))\n",
    "from sklearn.metrics import confusion_matrix\n",
    "\n",
    "cf=confusion_matrix(y_true, y_pred2)"
   ]
  },
  {
   "cell_type": "code",
   "execution_count": 14,
   "id": "61149c7c",
   "metadata": {},
   "outputs": [
    {
     "data": {
      "text/plain": [
       "array([[ 69, 147],\n",
       "       [ 27, 595]], dtype=int64)"
      ]
     },
     "execution_count": 14,
     "metadata": {},
     "output_type": "execute_result"
    }
   ],
   "source": [
    "cf"
   ]
  },
  {
   "cell_type": "code",
   "execution_count": 15,
   "id": "4ac219b3",
   "metadata": {},
   "outputs": [],
   "source": [
    "img=validation_generator[8]"
   ]
  },
  {
   "cell_type": "code",
   "execution_count": 19,
   "id": "531d9948",
   "metadata": {},
   "outputs": [
    {
     "ename": "error",
     "evalue": "OpenCV(4.5.5) :-1: error: (-5:Bad argument) in function 'resize'\n> Overload resolution failed:\n>  - src is not a numerical tuple\n>  - Expected Ptr<cv::UMat> for argument 'src'\n",
     "output_type": "error",
     "traceback": [
      "\u001b[1;31m---------------------------------------------------------------------------\u001b[0m",
      "\u001b[1;31merror\u001b[0m                                     Traceback (most recent call last)",
      "\u001b[1;32m~\\AppData\\Local\\Temp/ipykernel_10268/3716398914.py\u001b[0m in \u001b[0;36m<module>\u001b[1;34m\u001b[0m\n\u001b[0;32m      1\u001b[0m \u001b[1;31m#pred=model.predict(img)\u001b[0m\u001b[1;33m\u001b[0m\u001b[1;33m\u001b[0m\u001b[0m\n\u001b[1;32m----> 2\u001b[1;33m \u001b[0mimg\u001b[0m\u001b[1;33m=\u001b[0m\u001b[0mcv2\u001b[0m\u001b[1;33m.\u001b[0m\u001b[0mresize\u001b[0m\u001b[1;33m(\u001b[0m\u001b[0mimg\u001b[0m\u001b[1;33m,\u001b[0m \u001b[1;33m(\u001b[0m\u001b[0mimg_h\u001b[0m\u001b[1;33m,\u001b[0m\u001b[0mimg_w\u001b[0m\u001b[1;33m)\u001b[0m\u001b[1;33m)\u001b[0m\u001b[1;33m\u001b[0m\u001b[1;33m\u001b[0m\u001b[0m\n\u001b[0m\u001b[0;32m      3\u001b[0m \u001b[0mimg\u001b[0m\u001b[1;33m=\u001b[0m\u001b[0mnp\u001b[0m\u001b[1;33m.\u001b[0m\u001b[0mexpand_dims\u001b[0m\u001b[1;33m(\u001b[0m\u001b[0mimage_resized\u001b[0m\u001b[1;33m,\u001b[0m\u001b[0maxis\u001b[0m\u001b[1;33m=\u001b[0m\u001b[1;36m0\u001b[0m\u001b[1;33m)\u001b[0m\u001b[1;33m\u001b[0m\u001b[1;33m\u001b[0m\u001b[0m\n",
      "\u001b[1;31merror\u001b[0m: OpenCV(4.5.5) :-1: error: (-5:Bad argument) in function 'resize'\n> Overload resolution failed:\n>  - src is not a numerical tuple\n>  - Expected Ptr<cv::UMat> for argument 'src'\n"
     ]
    }
   ],
   "source": [
    "#pred=model.predict(img)\n",
    "img=cv2.resize(img, (img_h,img_w))\n",
    "img=np.expand_dims(image_resized,axis=0)"
   ]
  },
  {
   "cell_type": "code",
   "execution_count": null,
   "id": "a89ab31f",
   "metadata": {},
   "outputs": [],
   "source": []
  }
 ],
 "metadata": {
  "kernelspec": {
   "display_name": "Python 3 (ipykernel)",
   "language": "python",
   "name": "python3"
  },
  "language_info": {
   "codemirror_mode": {
    "name": "ipython",
    "version": 3
   },
   "file_extension": ".py",
   "mimetype": "text/x-python",
   "name": "python",
   "nbconvert_exporter": "python",
   "pygments_lexer": "ipython3",
   "version": "3.9.7"
  }
 },
 "nbformat": 4,
 "nbformat_minor": 5
}
