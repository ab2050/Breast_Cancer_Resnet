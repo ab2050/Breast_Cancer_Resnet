{
 "cells": [
  {
   "cell_type": "code",
   "execution_count": 1,
   "id": "5f21dc41",
   "metadata": {},
   "outputs": [],
   "source": [
    "import tensorflow as tf\n",
    "from tensorflow.keras.preprocessing.image import ImageDataGenerator\n",
    "from tensorflow.keras.models import Sequential\n",
    "from tensorflow.keras.layers import Conv2D, MaxPooling2D\n",
    "from tensorflow.keras.layers import Activation, Dropout, Flatten, Dense, BatchNormalization\n",
    "import os\n",
    "import pandas as pd\n",
    "import numpy as np\n",
    "import cv2"
   ]
  },
  {
   "cell_type": "code",
   "execution_count": 2,
   "id": "325cd285",
   "metadata": {},
   "outputs": [],
   "source": [
    "base_dir = r'E:\\AB\\UEM\\year 3\\SEM 6\\pneumonia_binary\\train'\n",
    "img_h,img_w= (164,164)\n",
    "batch_size=32\n",
    "epochs=3\n",
    "from tensorflow.keras.preprocessing.image import ImageDataGenerator\n",
    "datagen= ImageDataGenerator(rescale=1./255,validation_split=0.2)"
   ]
  },
  {
   "cell_type": "code",
   "execution_count": 3,
   "id": "fb9ddfd7",
   "metadata": {},
   "outputs": [
    {
     "name": "stdout",
     "output_type": "stream",
     "text": [
      "Model: \"sequential\"\n",
      "_________________________________________________________________\n",
      " Layer (type)                Output Shape              Param #   \n",
      "=================================================================\n",
      " resnet50 (Functional)       (None, 2048)              23587712  \n",
      "                                                                 \n",
      " flatten (Flatten)           (None, 2048)              0         \n",
      "                                                                 \n",
      " dropout (Dropout)           (None, 2048)              0         \n",
      "                                                                 \n",
      " dense (Dense)               (None, 2)                 4098      \n",
      "                                                                 \n",
      "=================================================================\n",
      "Total params: 23,591,810\n",
      "Trainable params: 1,059,842\n",
      "Non-trainable params: 22,531,968\n",
      "_________________________________________________________________\n"
     ]
    }
   ],
   "source": [
    "from tensorflow.keras.applications.resnet import ResNet50\n",
    "from tensorflow.keras.applications.vgg19 import VGG19, preprocess_input\n",
    "#from tensorflow.keras.applications.mobilenet_v2 import MobileNetV2 \n",
    "from tensorflow.keras.layers import Flatten,Dense,Dropout,BatchNormalization\n",
    "from tensorflow.keras.models import Model,Sequential\n",
    "from tensorflow.keras.utils import to_categorical\n",
    "from tensorflow.keras.layers import Conv2D, MaxPooling2D, BatchNormalization\n",
    "from tensorflow.keras.layers import PReLU\n",
    "from tensorflow.keras.optimizers import RMSprop\n",
    "\n",
    "from tensorflow.keras.callbacks import ReduceLROnPlateau\n",
    "\n",
    "import keras\n",
    "from tensorflow.python.keras.metrics import Metric\n",
    "base_model= ResNet50(include_top=False, weights='imagenet',\n",
    "                                       input_tensor=None, input_shape=(img_h,img_w,3), pooling='avg')\n",
    " \n",
    "for layer in base_model.layers[:-7]:\n",
    "    layer.trainable=False\n",
    "\n",
    " \n",
    "model=Sequential()\n",
    "model.add(base_model)\n",
    "model.add(Flatten())\n",
    "model.add(Dropout(0.4))\n",
    "\n",
    "\n",
    "model.add(Dense(2,activation='sigmoid'))\n",
    "#model.add(Dense(1))\n",
    "#model.add(Activation(\"sigmoid\"))\n",
    "model.summary()"
   ]
  },
  {
   "cell_type": "code",
   "execution_count": 4,
   "id": "74d5cd38",
   "metadata": {},
   "outputs": [
    {
     "name": "stdout",
     "output_type": "stream",
     "text": [
      "<keras.engine.input_layer.InputLayer object at 0x0000013E2901BCD0> --> False\n",
      "<keras.layers.convolutional.ZeroPadding2D object at 0x0000013E29072640> --> False\n",
      "<keras.layers.convolutional.Conv2D object at 0x0000013E290729D0> --> False\n",
      "<keras.layers.normalization.batch_normalization.BatchNormalization object at 0x0000013E290E37C0> --> False\n",
      "<keras.layers.core.activation.Activation object at 0x0000013E290E34C0> --> False\n",
      "<keras.layers.convolutional.ZeroPadding2D object at 0x0000013E29121D60> --> False\n",
      "<keras.layers.pooling.MaxPooling2D object at 0x0000013E29176CA0> --> False\n",
      "<keras.layers.convolutional.Conv2D object at 0x0000013E29198DC0> --> False\n",
      "<keras.layers.normalization.batch_normalization.BatchNormalization object at 0x0000013E29193C70> --> False\n",
      "<keras.layers.core.activation.Activation object at 0x0000013E290E3160> --> False\n",
      "<keras.layers.convolutional.Conv2D object at 0x0000013E291A1400> --> False\n",
      "<keras.layers.normalization.batch_normalization.BatchNormalization object at 0x0000013E29186DF0> --> False\n",
      "<keras.layers.core.activation.Activation object at 0x0000013E29072AF0> --> False\n",
      "<keras.layers.convolutional.Conv2D object at 0x0000013E29186970> --> False\n",
      "<keras.layers.convolutional.Conv2D object at 0x0000013E291A7F10> --> False\n",
      "<keras.layers.normalization.batch_normalization.BatchNormalization object at 0x0000013E291938E0> --> False\n",
      "<keras.layers.normalization.batch_normalization.BatchNormalization object at 0x0000013E291AE880> --> False\n",
      "<keras.layers.merge.Add object at 0x0000013E291BC760> --> False\n",
      "<keras.layers.core.activation.Activation object at 0x0000013E291BCAF0> --> False\n",
      "<keras.layers.convolutional.Conv2D object at 0x0000013E291216D0> --> False\n",
      "<keras.layers.normalization.batch_normalization.BatchNormalization object at 0x0000013E291C28E0> --> False\n",
      "<keras.layers.core.activation.Activation object at 0x0000013E291C65B0> --> False\n",
      "<keras.layers.convolutional.Conv2D object at 0x0000013E291C6B80> --> False\n",
      "<keras.layers.normalization.batch_normalization.BatchNormalization object at 0x0000013E291CC970> --> False\n",
      "<keras.layers.core.activation.Activation object at 0x0000013E291C6730> --> False\n",
      "<keras.layers.convolutional.Conv2D object at 0x0000013E291D3EB0> --> False\n",
      "<keras.layers.normalization.batch_normalization.BatchNormalization object at 0x0000013E291A7550> --> False\n",
      "<keras.layers.merge.Add object at 0x0000013E291D3E80> --> False\n",
      "<keras.layers.core.activation.Activation object at 0x0000013E291E0CA0> --> False\n",
      "<keras.layers.convolutional.Conv2D object at 0x0000013E291CC7C0> --> False\n",
      "<keras.layers.normalization.batch_normalization.BatchNormalization object at 0x0000013E291EEE50> --> False\n",
      "<keras.layers.core.activation.Activation object at 0x0000013E291F3B20> --> False\n",
      "<keras.layers.convolutional.Conv2D object at 0x0000013E291EE820> --> False\n",
      "<keras.layers.normalization.batch_normalization.BatchNormalization object at 0x0000013E291D9F70> --> False\n",
      "<keras.layers.core.activation.Activation object at 0x0000013E291F3CA0> --> False\n",
      "<keras.layers.convolutional.Conv2D object at 0x0000013E291F6A00> --> False\n",
      "<keras.layers.normalization.batch_normalization.BatchNormalization object at 0x0000013E2920A100> --> False\n",
      "<keras.layers.merge.Add object at 0x0000013E291FE3A0> --> False\n",
      "<keras.layers.core.activation.Activation object at 0x0000013E29211940> --> False\n",
      "<keras.layers.convolutional.Conv2D object at 0x0000013E2921DB80> --> False\n",
      "<keras.layers.normalization.batch_normalization.BatchNormalization object at 0x0000013E29217850> --> False\n",
      "<keras.layers.core.activation.Activation object at 0x0000013E2921DB20> --> False\n",
      "<keras.layers.convolutional.Conv2D object at 0x0000013E292503D0> --> False\n",
      "<keras.layers.normalization.batch_normalization.BatchNormalization object at 0x0000013E29255190> --> False\n",
      "<keras.layers.core.activation.Activation object at 0x0000013E2925A1F0> --> False\n",
      "<keras.layers.convolutional.Conv2D object at 0x0000013E2920A670> --> False\n",
      "<keras.layers.convolutional.Conv2D object at 0x0000013E2925AD90> --> False\n",
      "<keras.layers.normalization.batch_normalization.BatchNormalization object at 0x0000013E2921D100> --> False\n",
      "<keras.layers.normalization.batch_normalization.BatchNormalization object at 0x0000013E2924AE50> --> False\n",
      "<keras.layers.merge.Add object at 0x0000013E29204EE0> --> False\n",
      "<keras.layers.core.activation.Activation object at 0x0000013E292042B0> --> False\n",
      "<keras.layers.convolutional.Conv2D object at 0x0000013E2925A220> --> False\n",
      "<keras.layers.normalization.batch_normalization.BatchNormalization object at 0x0000013E291D9430> --> False\n",
      "<keras.layers.core.activation.Activation object at 0x0000013E291F36A0> --> False\n",
      "<keras.layers.convolutional.Conv2D object at 0x0000013E291D9310> --> False\n",
      "<keras.layers.normalization.batch_normalization.BatchNormalization object at 0x0000013E291A46A0> --> False\n",
      "<keras.layers.core.activation.Activation object at 0x0000013E291C68E0> --> False\n",
      "<keras.layers.convolutional.Conv2D object at 0x0000013E29263F70> --> False\n",
      "<keras.layers.normalization.batch_normalization.BatchNormalization object at 0x0000013E291D98E0> --> False\n",
      "<keras.layers.merge.Add object at 0x0000013E292041C0> --> False\n",
      "<keras.layers.core.activation.Activation object at 0x0000013E2920B580> --> False\n",
      "<keras.layers.convolutional.Conv2D object at 0x0000013E291A4550> --> False\n",
      "<keras.layers.normalization.batch_normalization.BatchNormalization object at 0x0000013E2926AF70> --> False\n",
      "<keras.layers.core.activation.Activation object at 0x0000013E29271EB0> --> False\n",
      "<keras.layers.convolutional.Conv2D object at 0x0000013E29271790> --> False\n",
      "<keras.layers.normalization.batch_normalization.BatchNormalization object at 0x0000013E29273D30> --> False\n",
      "<keras.layers.core.activation.Activation object at 0x0000013E29271040> --> False\n",
      "<keras.layers.convolutional.Conv2D object at 0x0000013E29273A00> --> False\n",
      "<keras.layers.normalization.batch_normalization.BatchNormalization object at 0x0000013E293B4250> --> False\n",
      "<keras.layers.merge.Add object at 0x0000013E29278850> --> False\n",
      "<keras.layers.core.activation.Activation object at 0x0000013E293B9A90> --> False\n",
      "<keras.layers.convolutional.Conv2D object at 0x0000013E293B4730> --> False\n",
      "<keras.layers.normalization.batch_normalization.BatchNormalization object at 0x0000013E293C7250> --> False\n",
      "<keras.layers.core.activation.Activation object at 0x0000013E293C7C70> --> False\n",
      "<keras.layers.convolutional.Conv2D object at 0x0000013E293B4700> --> False\n",
      "<keras.layers.normalization.batch_normalization.BatchNormalization object at 0x0000013E293D35E0> --> False\n",
      "<keras.layers.core.activation.Activation object at 0x0000013E293C7CD0> --> False\n",
      "<keras.layers.convolutional.Conv2D object at 0x0000013E293D9700> --> False\n",
      "<keras.layers.normalization.batch_normalization.BatchNormalization object at 0x0000013E293E1AC0> --> False\n",
      "<keras.layers.merge.Add object at 0x0000013E293D9B50> --> False\n",
      "<keras.layers.core.activation.Activation object at 0x0000013E293D3D30> --> False\n",
      "<keras.layers.convolutional.Conv2D object at 0x0000013E2F429FA0> --> False\n",
      "<keras.layers.normalization.batch_normalization.BatchNormalization object at 0x0000013E293CDFA0> --> False\n",
      "<keras.layers.core.activation.Activation object at 0x0000013E2F435040> --> False\n",
      "<keras.layers.convolutional.Conv2D object at 0x0000013E2F435B50> --> False\n",
      "<keras.layers.normalization.batch_normalization.BatchNormalization object at 0x0000013E293EC460> --> False\n",
      "<keras.layers.core.activation.Activation object at 0x0000013E293C1910> --> False\n",
      "<keras.layers.convolutional.Conv2D object at 0x0000013E293E1820> --> False\n",
      "<keras.layers.convolutional.Conv2D object at 0x0000013E293CD640> --> False\n",
      "<keras.layers.normalization.batch_normalization.BatchNormalization object at 0x0000013E2F424AC0> --> False\n",
      "<keras.layers.normalization.batch_normalization.BatchNormalization object at 0x0000013E293B0F40> --> False\n",
      "<keras.layers.merge.Add object at 0x0000013E293C7700> --> False\n",
      "<keras.layers.core.activation.Activation object at 0x0000013E2920B3D0> --> False\n",
      "<keras.layers.convolutional.Conv2D object at 0x0000013E293D3070> --> False\n",
      "<keras.layers.normalization.batch_normalization.BatchNormalization object at 0x0000013E29242B50> --> False\n",
      "<keras.layers.core.activation.Activation object at 0x0000013E292681F0> --> False\n",
      "<keras.layers.convolutional.Conv2D object at 0x0000013E2F43C940> --> False\n",
      "<keras.layers.normalization.batch_normalization.BatchNormalization object at 0x0000013E291F6220> --> False\n",
      "<keras.layers.core.activation.Activation object at 0x0000013E293E5B80> --> False\n",
      "<keras.layers.convolutional.Conv2D object at 0x0000013E2F435460> --> False\n",
      "<keras.layers.normalization.batch_normalization.BatchNormalization object at 0x0000013E2F445310> --> False\n",
      "<keras.layers.merge.Add object at 0x0000013E2F4482E0> --> False\n",
      "<keras.layers.core.activation.Activation object at 0x0000013E2F448D00> --> False\n",
      "<keras.layers.convolutional.Conv2D object at 0x0000013E2F445790> --> False\n",
      "<keras.layers.normalization.batch_normalization.BatchNormalization object at 0x0000013E2F452310> --> False\n",
      "<keras.layers.core.activation.Activation object at 0x0000013E2F452D30> --> False\n",
      "<keras.layers.convolutional.Conv2D object at 0x0000013E291A7880> --> False\n",
      "<keras.layers.normalization.batch_normalization.BatchNormalization object at 0x0000013E2F45D700> --> False\n",
      "<keras.layers.core.activation.Activation object at 0x0000013E2F452D90> --> False\n",
      "<keras.layers.convolutional.Conv2D object at 0x0000013E2F4635E0> --> False\n",
      "<keras.layers.normalization.batch_normalization.BatchNormalization object at 0x0000013E2F469BE0> --> False\n",
      "<keras.layers.merge.Add object at 0x0000013E2F463C70> --> False\n",
      "<keras.layers.core.activation.Activation object at 0x0000013E2F445820> --> False\n",
      "<keras.layers.convolutional.Conv2D object at 0x0000013E2F469640> --> False\n",
      "<keras.layers.normalization.batch_normalization.BatchNormalization object at 0x0000013E2F47EBE0> --> False\n",
      "<keras.layers.core.activation.Activation object at 0x0000013E2F4828B0> --> False\n",
      "<keras.layers.convolutional.Conv2D object at 0x0000013E2F47EDF0> --> False\n",
      "<keras.layers.normalization.batch_normalization.BatchNormalization object at 0x0000013E2F487C70> --> False\n",
      "<keras.layers.core.activation.Activation object at 0x0000013E2F48D940> --> False\n",
      "<keras.layers.convolutional.Conv2D object at 0x0000013E2F4875E0> --> False\n",
      "<keras.layers.normalization.batch_normalization.BatchNormalization object at 0x0000013E2F47E5E0> --> False\n",
      "<keras.layers.merge.Add object at 0x0000013E2F4A01F0> --> False\n",
      "<keras.layers.core.activation.Activation object at 0x0000013E2F4A0700> --> False\n",
      "<keras.layers.convolutional.Conv2D object at 0x0000013E2F49C430> --> False\n",
      "<keras.layers.normalization.batch_normalization.BatchNormalization object at 0x0000013E2F4A6E50> --> False\n",
      "<keras.layers.core.activation.Activation object at 0x0000013E2F4AC970> --> False\n",
      "<keras.layers.convolutional.Conv2D object at 0x0000013E2F4A6280> --> False\n",
      "<keras.layers.normalization.batch_normalization.BatchNormalization object at 0x0000013E2F48DC40> --> False\n",
      "<keras.layers.core.activation.Activation object at 0x0000013E2F470DF0> --> False\n",
      "<keras.layers.convolutional.Conv2D object at 0x0000013E2F476CA0> --> False\n",
      "<keras.layers.normalization.batch_normalization.BatchNormalization object at 0x0000013E2F44C7C0> --> False\n",
      "<keras.layers.merge.Add object at 0x0000013E2F469070> --> False\n",
      "<keras.layers.core.activation.Activation object at 0x0000013E2F4421C0> --> False\n",
      "<keras.layers.convolutional.Conv2D object at 0x0000013E2F429D90> --> False\n",
      "<keras.layers.normalization.batch_normalization.BatchNormalization object at 0x0000013E293B0D90> --> False\n",
      "<keras.layers.core.activation.Activation object at 0x0000013E293E12B0> --> False\n",
      "<keras.layers.convolutional.Conv2D object at 0x0000013E2F456DC0> --> False\n",
      "<keras.layers.normalization.batch_normalization.BatchNormalization object at 0x0000013E2F4B8730> --> False\n",
      "<keras.layers.core.activation.Activation object at 0x0000013E293C1940> --> False\n",
      "<keras.layers.convolutional.Conv2D object at 0x0000013E2F4B7E20> --> False\n",
      "<keras.layers.normalization.batch_normalization.BatchNormalization object at 0x0000013E2F4BCC40> --> False\n",
      "<keras.layers.merge.Add object at 0x0000013E2F4B7CD0> --> False\n",
      "<keras.layers.core.activation.Activation object at 0x0000013E2F4C13A0> --> False\n",
      "<keras.layers.convolutional.Conv2D object at 0x0000013E2F4CDCA0> --> False\n",
      "<keras.layers.normalization.batch_normalization.BatchNormalization object at 0x0000013E2F4C3D00> --> False\n",
      "<keras.layers.core.activation.Activation object at 0x0000013E2F4CD220> --> False\n",
      "<keras.layers.convolutional.Conv2D object at 0x0000013E2F4D9EE0> --> False\n",
      "<keras.layers.normalization.batch_normalization.BatchNormalization object at 0x0000013E2F4BCE80> --> False\n",
      "<keras.layers.core.activation.Activation object at 0x0000013E2F4ED1C0> --> False\n",
      "<keras.layers.convolutional.Conv2D object at 0x0000013E2F4BC610> --> False\n",
      "<keras.layers.convolutional.Conv2D object at 0x0000013E2F4ED6A0> --> False\n",
      "<keras.layers.normalization.batch_normalization.BatchNormalization object at 0x0000013E2F4C7C40> --> False\n",
      "<keras.layers.normalization.batch_normalization.BatchNormalization object at 0x0000013E2F4D9340> --> False\n",
      "<keras.layers.merge.Add object at 0x0000013E2F4F9160> --> False\n",
      "<keras.layers.core.activation.Activation object at 0x0000013E2F4F97C0> --> False\n",
      "<keras.layers.convolutional.Conv2D object at 0x0000013E2F4F25E0> --> False\n",
      "<keras.layers.normalization.batch_normalization.BatchNormalization object at 0x0000013E2F4FFF40> --> False\n",
      "<keras.layers.core.activation.Activation object at 0x0000013E2F5069D0> --> False\n",
      "<keras.layers.convolutional.Conv2D object at 0x0000013E2F4F2F40> --> False\n",
      "<keras.layers.normalization.batch_normalization.BatchNormalization object at 0x0000013E2F50CFD0> --> False\n",
      "<keras.layers.core.activation.Activation object at 0x0000013E2F4EDEE0> --> False\n",
      "<keras.layers.convolutional.Conv2D object at 0x0000013E2F517880> --> False\n",
      "<keras.layers.normalization.batch_normalization.BatchNormalization object at 0x0000013E2F51D7F0> --> False\n",
      "<keras.layers.merge.Add object at 0x0000013E2F5234C0> --> False\n",
      "<keras.layers.core.activation.Activation object at 0x0000013E2F523EE0> --> False\n",
      "<keras.layers.convolutional.Conv2D object at 0x0000013E2F51D550> --> False\n",
      "<keras.layers.normalization.batch_normalization.BatchNormalization object at 0x0000013E2F4F9550> --> False\n",
      "<keras.layers.core.activation.Activation object at 0x0000013E2F4ED670> --> False\n",
      "<keras.layers.convolutional.Conv2D object at 0x0000013E2F4D93A0> --> False\n",
      "<keras.layers.normalization.batch_normalization.BatchNormalization object at 0x0000013E2F4C3760> --> True\n",
      "<keras.layers.core.activation.Activation object at 0x0000013E2F4DEF70> --> True\n",
      "<keras.layers.convolutional.Conv2D object at 0x0000013E2F4BC130> --> True\n",
      "<keras.layers.normalization.batch_normalization.BatchNormalization object at 0x0000013E2F4A6580> --> True\n",
      "<keras.layers.merge.Add object at 0x0000013E2F48DC70> --> True\n",
      "<keras.layers.core.activation.Activation object at 0x0000013E2F49C220> --> True\n",
      "<keras.layers.pooling.GlobalAveragePooling2D object at 0x0000013E2F4D6460> --> True\n"
     ]
    }
   ],
   "source": [
    "for layer in base_model.layers:\n",
    "    print(layer,\"-->\",layer.trainable)"
   ]
  },
  {
   "cell_type": "code",
   "execution_count": 5,
   "id": "82fa56a8",
   "metadata": {},
   "outputs": [
    {
     "name": "stderr",
     "output_type": "stream",
     "text": [
      "F:\\Anaconda\\lib\\site-packages\\keras\\optimizer_v2\\rmsprop.py:130: UserWarning: The `lr` argument is deprecated, use `learning_rate` instead.\n",
      "  super(RMSprop, self).__init__(name, **kwargs)\n"
     ]
    }
   ],
   "source": [
    "from tensorflow.keras.optimizers import Adam,SGD,Adagrad,Adadelta,RMSprop\n",
    "from tensorflow.keras.callbacks import ReduceLROnPlateau\n",
    "\n",
    "\n",
    "reduce_learning_rate = ReduceLROnPlateau(monitor='loss',\n",
    "                                         factor=0.1,\n",
    "                                         patience=3,\n",
    "                                         cooldown=2,\n",
    "                                         min_lr=1e-10,\n",
    "                                         verbose=1)\n",
    "\n",
    "checkpoint =tf.keras.callbacks.ModelCheckpoint(filepath=\"resfinal.h5\", \n",
    "                            monitor='val_accuracy',\n",
    "                            verbose=1,\n",
    "                            save_best_only=True, \n",
    "                            save_weights_only=False, \n",
    "                            mode='auto',\n",
    "                            save_freq='epoch')\n",
    "\n",
    "\n",
    "import time\n",
    "class TimeHistory(tf.keras.callbacks.Callback):\n",
    "    def on_train_begin(self, logs={}):\n",
    "        self.times = []\n",
    "\n",
    "    def on_epoch_begin(self, batch, logs={}):\n",
    "        self.epoch_time_start = time.time()\n",
    "\n",
    "    def on_epoch_end(self, batch, logs={}):\n",
    "        self.times.append(time.time() - self.epoch_time_start)\n",
    "\n",
    "time_callback = TimeHistory()\n",
    "\n",
    "callbacks = [reduce_learning_rate, checkpoint, time_callback]\n",
    "optimizer = RMSprop(lr=0.001, rho=0.9, epsilon=1e-08, decay=0.0)\n",
    "model.compile( loss='binary_crossentropy',optimizer= optimizer, metrics=['accuracy',keras.metrics.Precision(),keras.metrics.Recall()])"
   ]
  },
  {
   "cell_type": "code",
   "execution_count": 6,
   "id": "5cadf7c6",
   "metadata": {},
   "outputs": [
    {
     "name": "stdout",
     "output_type": "stream",
     "text": [
      "Found 3354 images belonging to 2 classes.\n",
      "Found 207 images belonging to 2 classes.\n"
     ]
    }
   ],
   "source": [
    "val_dir = r'E:\\AB\\UEM\\year 3\\SEM 6\\pneumonia_binary\\val'\n",
    "train_generator = datagen.flow_from_directory(\n",
    "        base_dir,  # This is the source directory for training images\n",
    "        target_size=(img_h,img_w),  \n",
    "        batch_size=batch_size,\n",
    "        class_mode='categorical',\n",
    "        subset='training',\n",
    "        #color_mode=\"rgb\",\n",
    "        shuffle=True)\n",
    "\n",
    "\n",
    "validation_generator = datagen.flow_from_directory(\n",
    "         val_dir,     \n",
    "        target_size=(img_h, img_w),\n",
    "        batch_size=batch_size,\n",
    "        class_mode='categorical',\n",
    "        #color_mode=\"rgb\",\n",
    "        subset='validation',\n",
    "        shuffle=False)"
   ]
  },
  {
   "cell_type": "code",
   "execution_count": 7,
   "id": "7849828e",
   "metadata": {},
   "outputs": [
    {
     "name": "stdout",
     "output_type": "stream",
     "text": [
      "104/104 [==============================] - ETA: 0s - loss: 0.4499 - accuracy: 0.7974 - precision: 0.7920 - recall: 0.7911\n",
      "Epoch 00001: val_accuracy improved from -inf to 0.86979, saving model to resfinal.h5\n"
     ]
    },
    {
     "name": "stderr",
     "output_type": "stream",
     "text": [
      "F:\\Anaconda\\lib\\site-packages\\keras\\engine\\functional.py:1410: CustomMaskWarning: Custom mask layers require a config and must override get_config. When loading, the custom mask layer must be passed to the custom_objects argument.\n",
      "  layer_config = serialize_layer_fn(layer)\n"
     ]
    },
    {
     "name": "stdout",
     "output_type": "stream",
     "text": [
      "\b\b\b\b\b\b\b\b\b\b\b\b\b\b\b\b\b\b\b\b\b\b\b\b\b\b\b\b\b\b\b\b\b\b\b\b\b\b\b\b\b\b\b\b\b\b\b\b\b\b\b\b\b\b\b\b\b\b\b\b\b\b\b\b\b\b\b\b\b\b\b\b\b\b\b\b\b\b\b\b\b\b\b\b\b\b\b\b\b\b\b\b\b\b\b\b\b\b\b\b\b\b\b\b\b\b\b\b\b\b\b\b\b\b\b\b\b\b\b\b\b\r",
      "104/104 [==============================] - 204s 2s/step - loss: 0.4499 - accuracy: 0.7974 - precision: 0.7920 - recall: 0.7911 - val_loss: 0.4885 - val_accuracy: 0.8698 - val_precision: 0.8852 - val_recall: 0.8438 - lr: 0.0010\n"
     ]
    }
   ],
   "source": [
    "history = model.fit(\n",
    "      train_generator,\n",
    "      steps_per_epoch=train_generator.samples//batch_size, \n",
    "      epochs=1,\n",
    "      validation_data=validation_generator,\n",
    "      validation_steps=validation_generator.samples//batch_size,  \n",
    "      callbacks=callbacks,\n",
    "      verbose=1)"
   ]
  },
  {
   "cell_type": "code",
   "execution_count": null,
   "id": "06d7616b",
   "metadata": {},
   "outputs": [],
   "source": [
    "model.evaluate(validation_generator,verbose=1)"
   ]
  },
  {
   "cell_type": "code",
   "execution_count": 19,
   "id": "1dce7858",
   "metadata": {},
   "outputs": [
    {
     "name": "stdout",
     "output_type": "stream",
     "text": [
      "dict_keys(['loss', 'lr'])\n"
     ]
    }
   ],
   "source": [
    "history_dict = history.history\n",
    "print(history_dict.keys())"
   ]
  },
  {
   "cell_type": "code",
   "execution_count": 15,
   "id": "d6b773a8",
   "metadata": {},
   "outputs": [
    {
     "name": "stdout",
     "output_type": "stream",
     "text": [
      "0.9010416865348816 at epoch number- 1\n"
     ]
    }
   ],
   "source": [
    "accu= history.history['val_accuracy']\n",
    "print(max(accu),\"at epoch number-\",accu.index(max(accu))+1)\n",
    "\n",
    "\n",
    "#print(f\" — val_f1: {_val_f1} — val_precision: {_val_precision} — val_recall _val_recall\")"
   ]
  },
  {
   "cell_type": "code",
   "execution_count": 34,
   "id": "96fc1a37",
   "metadata": {},
   "outputs": [
    {
     "name": "stdout",
     "output_type": "stream",
     "text": [
      "Pneumonia\n"
     ]
    }
   ],
   "source": [
    "img = cv2.imread(\"E:\\\\AB\\\\UEM\\\\year 3\\\\SEM 6\\\\pneumonia_binary\\\\test\\\\opacity\\\\person16_virus_47.jpeg\") \n",
    "image_resized= cv2.resize(img, (img_h,img_w))\n",
    "'''cv2.imshow('CT scan', img)\n",
    "cv2.waitKey(0)'''\n",
    "img=np.expand_dims(image_resized,axis=0)\n",
    "np.set_printoptions(suppress=True)\n",
    "pred=model.predict(img)\n",
    "#print(pred);\n",
    "yn=np.argmax(pred,axis=1)\n",
    "if yn==0:\n",
    "    print(\"Pneumonia\")\n",
    "else :\n",
    "    print(\"Not\")"
   ]
  },
  {
   "cell_type": "code",
   "execution_count": 11,
   "id": "0f80be7b",
   "metadata": {},
   "outputs": [
    {
     "name": "stdout",
     "output_type": "stream",
     "text": [
      "Not pneumonia\n"
     ]
    }
   ],
   "source": [
    "yn=np.argmax(pred,axis=1)\n",
    "classes = []\n",
    "for subdir in sorted(os.listdir(base_dir)):\n",
    "    if os.path.isdir(os.path.join(base_dir, subdir)):\n",
    "        classes.append(subdir)\n",
    "if yn==0:\n",
    "    print(\"pneumonia\")\n",
    "else :\n",
    "    print(\"Not pneumonia\")"
   ]
  },
  {
   "cell_type": "code",
   "execution_count": 15,
   "id": "11ee463c",
   "metadata": {},
   "outputs": [
    {
     "data": {
      "text/plain": [
       "array([0], dtype=int64)"
      ]
     },
     "execution_count": 15,
     "metadata": {},
     "output_type": "execute_result"
    }
   ],
   "source": [
    "yn=np.argmax(pred,axis=1)\n",
    "classes = []\n",
    "for subdir in sorted(os.listdir(base_dir)):\n",
    "    if os.path.isdir(os.path.join(base_dir, subdir)):\n",
    "        classes.append(subdir)\n",
    "yn"
   ]
  },
  {
   "cell_type": "code",
   "execution_count": 48,
   "id": "6420417b",
   "metadata": {},
   "outputs": [
    {
     "data": {
      "text/plain": [
       "array([0], dtype=int64)"
      ]
     },
     "execution_count": 48,
     "metadata": {},
     "output_type": "execute_result"
    }
   ],
   "source": [
    "import keras\n",
    "from keras.utils.np_utils import to_categorical\n",
    "y_proba = model.predict(img)\n",
    "y_classes = y_proba.argmax(axis=-1)\n",
    "y_classes"
   ]
  },
  {
   "cell_type": "code",
   "execution_count": 47,
   "id": "60b03a94",
   "metadata": {},
   "outputs": [
    {
     "name": "stdout",
     "output_type": "stream",
     "text": [
      "Total time taken is  6.0  minutes and  15.173778057098389  seconds\n"
     ]
    }
   ],
   "source": [
    "timings= time_callback.times\n",
    "n=sum(timings)\n",
    "print(\"Total time taken is \",sum(timings)//60,\" minutes and \",sum(timings)%60,\" seconds\")"
   ]
  },
  {
   "cell_type": "code",
   "execution_count": 32,
   "id": "4a7824f0",
   "metadata": {},
   "outputs": [
    {
     "name": "stdout",
     "output_type": "stream",
     "text": [
      "1/1 [==============================] - 24s 24s/step\n",
      "0.2560386473429952\n"
     ]
    },
    {
     "ename": "ValueError",
     "evalue": "Classification metrics can't handle a mix of binary and continuous-multioutput targets",
     "output_type": "error",
     "traceback": [
      "\u001b[1;31m---------------------------------------------------------------------------\u001b[0m",
      "\u001b[1;31mValueError\u001b[0m                                Traceback (most recent call last)",
      "\u001b[1;32m~\\AppData\\Local\\Temp/ipykernel_9204/2802216000.py\u001b[0m in \u001b[0;36m<module>\u001b[1;34m\u001b[0m\n\u001b[0;32m      8\u001b[0m \u001b[1;32mfrom\u001b[0m \u001b[0msklearn\u001b[0m\u001b[1;33m.\u001b[0m\u001b[0mmetrics\u001b[0m \u001b[1;32mimport\u001b[0m \u001b[0mconfusion_matrix\u001b[0m\u001b[1;33m\u001b[0m\u001b[1;33m\u001b[0m\u001b[0m\n\u001b[0;32m      9\u001b[0m \u001b[1;33m\u001b[0m\u001b[0m\n\u001b[1;32m---> 10\u001b[1;33m \u001b[0mcf\u001b[0m\u001b[1;33m=\u001b[0m\u001b[0mconfusion_matrix\u001b[0m\u001b[1;33m(\u001b[0m\u001b[0myn\u001b[0m\u001b[1;33m,\u001b[0m \u001b[0mpred\u001b[0m\u001b[1;33m)\u001b[0m\u001b[1;33m\u001b[0m\u001b[1;33m\u001b[0m\u001b[0m\n\u001b[0m\u001b[0;32m     11\u001b[0m \u001b[1;33m\u001b[0m\u001b[0m\n\u001b[0;32m     12\u001b[0m \u001b[0mdf_cm\u001b[0m \u001b[1;33m=\u001b[0m \u001b[0mpd\u001b[0m\u001b[1;33m.\u001b[0m\u001b[0mDataFrame\u001b[0m\u001b[1;33m(\u001b[0m\u001b[0mcf\u001b[0m\u001b[1;33m,\u001b[0m \u001b[0mrange\u001b[0m\u001b[1;33m(\u001b[0m\u001b[1;36m2\u001b[0m\u001b[1;33m)\u001b[0m\u001b[1;33m,\u001b[0m \u001b[0mrange\u001b[0m\u001b[1;33m(\u001b[0m\u001b[1;36m2\u001b[0m\u001b[1;33m)\u001b[0m\u001b[1;33m)\u001b[0m\u001b[1;33m\u001b[0m\u001b[1;33m\u001b[0m\u001b[0m\n",
      "\u001b[1;32mF:\\Anaconda\\lib\\site-packages\\sklearn\\utils\\validation.py\u001b[0m in \u001b[0;36minner_f\u001b[1;34m(*args, **kwargs)\u001b[0m\n\u001b[0;32m     61\u001b[0m             \u001b[0mextra_args\u001b[0m \u001b[1;33m=\u001b[0m \u001b[0mlen\u001b[0m\u001b[1;33m(\u001b[0m\u001b[0margs\u001b[0m\u001b[1;33m)\u001b[0m \u001b[1;33m-\u001b[0m \u001b[0mlen\u001b[0m\u001b[1;33m(\u001b[0m\u001b[0mall_args\u001b[0m\u001b[1;33m)\u001b[0m\u001b[1;33m\u001b[0m\u001b[1;33m\u001b[0m\u001b[0m\n\u001b[0;32m     62\u001b[0m             \u001b[1;32mif\u001b[0m \u001b[0mextra_args\u001b[0m \u001b[1;33m<=\u001b[0m \u001b[1;36m0\u001b[0m\u001b[1;33m:\u001b[0m\u001b[1;33m\u001b[0m\u001b[1;33m\u001b[0m\u001b[0m\n\u001b[1;32m---> 63\u001b[1;33m                 \u001b[1;32mreturn\u001b[0m \u001b[0mf\u001b[0m\u001b[1;33m(\u001b[0m\u001b[1;33m*\u001b[0m\u001b[0margs\u001b[0m\u001b[1;33m,\u001b[0m \u001b[1;33m**\u001b[0m\u001b[0mkwargs\u001b[0m\u001b[1;33m)\u001b[0m\u001b[1;33m\u001b[0m\u001b[1;33m\u001b[0m\u001b[0m\n\u001b[0m\u001b[0;32m     64\u001b[0m \u001b[1;33m\u001b[0m\u001b[0m\n\u001b[0;32m     65\u001b[0m             \u001b[1;31m# extra_args > 0\u001b[0m\u001b[1;33m\u001b[0m\u001b[1;33m\u001b[0m\u001b[0m\n",
      "\u001b[1;32mF:\\Anaconda\\lib\\site-packages\\sklearn\\metrics\\_classification.py\u001b[0m in \u001b[0;36mconfusion_matrix\u001b[1;34m(y_true, y_pred, labels, sample_weight, normalize)\u001b[0m\n\u001b[0;32m    297\u001b[0m \u001b[1;33m\u001b[0m\u001b[0m\n\u001b[0;32m    298\u001b[0m     \"\"\"\n\u001b[1;32m--> 299\u001b[1;33m     \u001b[0my_type\u001b[0m\u001b[1;33m,\u001b[0m \u001b[0my_true\u001b[0m\u001b[1;33m,\u001b[0m \u001b[0my_pred\u001b[0m \u001b[1;33m=\u001b[0m \u001b[0m_check_targets\u001b[0m\u001b[1;33m(\u001b[0m\u001b[0my_true\u001b[0m\u001b[1;33m,\u001b[0m \u001b[0my_pred\u001b[0m\u001b[1;33m)\u001b[0m\u001b[1;33m\u001b[0m\u001b[1;33m\u001b[0m\u001b[0m\n\u001b[0m\u001b[0;32m    300\u001b[0m     \u001b[1;32mif\u001b[0m \u001b[0my_type\u001b[0m \u001b[1;32mnot\u001b[0m \u001b[1;32min\u001b[0m \u001b[1;33m(\u001b[0m\u001b[1;34m\"binary\"\u001b[0m\u001b[1;33m,\u001b[0m \u001b[1;34m\"multiclass\"\u001b[0m\u001b[1;33m)\u001b[0m\u001b[1;33m:\u001b[0m\u001b[1;33m\u001b[0m\u001b[1;33m\u001b[0m\u001b[0m\n\u001b[0;32m    301\u001b[0m         \u001b[1;32mraise\u001b[0m \u001b[0mValueError\u001b[0m\u001b[1;33m(\u001b[0m\u001b[1;34m\"%s is not supported\"\u001b[0m \u001b[1;33m%\u001b[0m \u001b[0my_type\u001b[0m\u001b[1;33m)\u001b[0m\u001b[1;33m\u001b[0m\u001b[1;33m\u001b[0m\u001b[0m\n",
      "\u001b[1;32mF:\\Anaconda\\lib\\site-packages\\sklearn\\metrics\\_classification.py\u001b[0m in \u001b[0;36m_check_targets\u001b[1;34m(y_true, y_pred)\u001b[0m\n\u001b[0;32m     90\u001b[0m \u001b[1;33m\u001b[0m\u001b[0m\n\u001b[0;32m     91\u001b[0m     \u001b[1;32mif\u001b[0m \u001b[0mlen\u001b[0m\u001b[1;33m(\u001b[0m\u001b[0my_type\u001b[0m\u001b[1;33m)\u001b[0m \u001b[1;33m>\u001b[0m \u001b[1;36m1\u001b[0m\u001b[1;33m:\u001b[0m\u001b[1;33m\u001b[0m\u001b[1;33m\u001b[0m\u001b[0m\n\u001b[1;32m---> 92\u001b[1;33m         raise ValueError(\"Classification metrics can't handle a mix of {0} \"\n\u001b[0m\u001b[0;32m     93\u001b[0m                          \"and {1} targets\".format(type_true, type_pred))\n\u001b[0;32m     94\u001b[0m \u001b[1;33m\u001b[0m\u001b[0m\n",
      "\u001b[1;31mValueError\u001b[0m: Classification metrics can't handle a mix of binary and continuous-multioutput targets"
     ]
    }
   ],
   "source": [
    "model2= tf.keras.models.load_model(\"resfinal.h5\")\n",
    "y_pred= model2.predict(validation_generator,verbose=1)\n",
    "y_true= validation_generator.classes\n",
    "y_pred2= np.argmax(y_pred,axis=1)\n",
    "\n",
    "from sklearn.metrics import accuracy_score\n",
    "print(accuracy_score(y_true,y_pred2))\n",
    "from sklearn.metrics import confusion_matrix\n",
    "\n",
    "cf=confusion_matrix(yn, pred)\n",
    "\n",
    "df_cm = pd.DataFrame(cf, range(2), range(2))\n",
    "df_cm.to_csv('ResNet50 prj'+'.csv',index=False)"
   ]
  },
  {
   "cell_type": "code",
   "execution_count": 18,
   "id": "249c9074",
   "metadata": {},
   "outputs": [
    {
     "data": {
      "text/plain": [
       "array([[ 53,   0],\n",
       "       [154,   0]], dtype=int64)"
      ]
     },
     "execution_count": 18,
     "metadata": {},
     "output_type": "execute_result"
    }
   ],
   "source": [
    "cf"
   ]
  },
  {
   "cell_type": "code",
   "execution_count": 25,
   "id": "6c0445e1",
   "metadata": {},
   "outputs": [
    {
     "data": {
      "text/plain": [
       "89.86442685127258"
      ]
     },
     "execution_count": 25,
     "metadata": {},
     "output_type": "execute_result"
    }
   ],
   "source": [
    "ac = max(accu)\n",
    "ac=ac*100\n",
    "ac"
   ]
  },
  {
   "cell_type": "code",
   "execution_count": 31,
   "id": "d27d355d",
   "metadata": {},
   "outputs": [
    {
     "ename": "ValueError",
     "evalue": "Classification metrics can't handle a mix of binary and continuous-multioutput targets",
     "output_type": "error",
     "traceback": [
      "\u001b[1;31m---------------------------------------------------------------------------\u001b[0m",
      "\u001b[1;31mValueError\u001b[0m                                Traceback (most recent call last)",
      "\u001b[1;32m~\\AppData\\Local\\Temp/ipykernel_9204/1278341330.py\u001b[0m in \u001b[0;36m<module>\u001b[1;34m\u001b[0m\n\u001b[0;32m      1\u001b[0m \u001b[1;32mimport\u001b[0m \u001b[0mnumpy\u001b[0m \u001b[1;32mas\u001b[0m \u001b[0mnp\u001b[0m\u001b[1;33m\u001b[0m\u001b[1;33m\u001b[0m\u001b[0m\n\u001b[0;32m      2\u001b[0m \u001b[1;32mfrom\u001b[0m \u001b[0msklearn\u001b[0m\u001b[1;33m.\u001b[0m\u001b[0mmetrics\u001b[0m \u001b[1;32mimport\u001b[0m \u001b[0mprecision_recall_fscore_support\u001b[0m\u001b[1;33m\u001b[0m\u001b[1;33m\u001b[0m\u001b[0m\n\u001b[1;32m----> 3\u001b[1;33m \u001b[0mprecision_recall_fscore_support\u001b[0m\u001b[1;33m(\u001b[0m\u001b[0myn\u001b[0m\u001b[1;33m,\u001b[0m \u001b[0mpred\u001b[0m\u001b[1;33m,\u001b[0m \u001b[0maverage\u001b[0m\u001b[1;33m=\u001b[0m\u001b[1;34m'macro'\u001b[0m\u001b[1;33m)\u001b[0m\u001b[1;33m\u001b[0m\u001b[1;33m\u001b[0m\u001b[0m\n\u001b[0m",
      "\u001b[1;32mF:\\Anaconda\\lib\\site-packages\\sklearn\\utils\\validation.py\u001b[0m in \u001b[0;36minner_f\u001b[1;34m(*args, **kwargs)\u001b[0m\n\u001b[0;32m     61\u001b[0m             \u001b[0mextra_args\u001b[0m \u001b[1;33m=\u001b[0m \u001b[0mlen\u001b[0m\u001b[1;33m(\u001b[0m\u001b[0margs\u001b[0m\u001b[1;33m)\u001b[0m \u001b[1;33m-\u001b[0m \u001b[0mlen\u001b[0m\u001b[1;33m(\u001b[0m\u001b[0mall_args\u001b[0m\u001b[1;33m)\u001b[0m\u001b[1;33m\u001b[0m\u001b[1;33m\u001b[0m\u001b[0m\n\u001b[0;32m     62\u001b[0m             \u001b[1;32mif\u001b[0m \u001b[0mextra_args\u001b[0m \u001b[1;33m<=\u001b[0m \u001b[1;36m0\u001b[0m\u001b[1;33m:\u001b[0m\u001b[1;33m\u001b[0m\u001b[1;33m\u001b[0m\u001b[0m\n\u001b[1;32m---> 63\u001b[1;33m                 \u001b[1;32mreturn\u001b[0m \u001b[0mf\u001b[0m\u001b[1;33m(\u001b[0m\u001b[1;33m*\u001b[0m\u001b[0margs\u001b[0m\u001b[1;33m,\u001b[0m \u001b[1;33m**\u001b[0m\u001b[0mkwargs\u001b[0m\u001b[1;33m)\u001b[0m\u001b[1;33m\u001b[0m\u001b[1;33m\u001b[0m\u001b[0m\n\u001b[0m\u001b[0;32m     64\u001b[0m \u001b[1;33m\u001b[0m\u001b[0m\n\u001b[0;32m     65\u001b[0m             \u001b[1;31m# extra_args > 0\u001b[0m\u001b[1;33m\u001b[0m\u001b[1;33m\u001b[0m\u001b[0m\n",
      "\u001b[1;32mF:\\Anaconda\\lib\\site-packages\\sklearn\\metrics\\_classification.py\u001b[0m in \u001b[0;36mprecision_recall_fscore_support\u001b[1;34m(y_true, y_pred, beta, labels, pos_label, average, warn_for, sample_weight, zero_division)\u001b[0m\n\u001b[0;32m   1462\u001b[0m     \u001b[1;32mif\u001b[0m \u001b[0mbeta\u001b[0m \u001b[1;33m<\u001b[0m \u001b[1;36m0\u001b[0m\u001b[1;33m:\u001b[0m\u001b[1;33m\u001b[0m\u001b[1;33m\u001b[0m\u001b[0m\n\u001b[0;32m   1463\u001b[0m         \u001b[1;32mraise\u001b[0m \u001b[0mValueError\u001b[0m\u001b[1;33m(\u001b[0m\u001b[1;34m\"beta should be >=0 in the F-beta score\"\u001b[0m\u001b[1;33m)\u001b[0m\u001b[1;33m\u001b[0m\u001b[1;33m\u001b[0m\u001b[0m\n\u001b[1;32m-> 1464\u001b[1;33m     labels = _check_set_wise_labels(y_true, y_pred, average, labels,\n\u001b[0m\u001b[0;32m   1465\u001b[0m                                     pos_label)\n\u001b[0;32m   1466\u001b[0m \u001b[1;33m\u001b[0m\u001b[0m\n",
      "\u001b[1;32mF:\\Anaconda\\lib\\site-packages\\sklearn\\metrics\\_classification.py\u001b[0m in \u001b[0;36m_check_set_wise_labels\u001b[1;34m(y_true, y_pred, average, labels, pos_label)\u001b[0m\n\u001b[0;32m   1275\u001b[0m                          str(average_options))\n\u001b[0;32m   1276\u001b[0m \u001b[1;33m\u001b[0m\u001b[0m\n\u001b[1;32m-> 1277\u001b[1;33m     \u001b[0my_type\u001b[0m\u001b[1;33m,\u001b[0m \u001b[0my_true\u001b[0m\u001b[1;33m,\u001b[0m \u001b[0my_pred\u001b[0m \u001b[1;33m=\u001b[0m \u001b[0m_check_targets\u001b[0m\u001b[1;33m(\u001b[0m\u001b[0my_true\u001b[0m\u001b[1;33m,\u001b[0m \u001b[0my_pred\u001b[0m\u001b[1;33m)\u001b[0m\u001b[1;33m\u001b[0m\u001b[1;33m\u001b[0m\u001b[0m\n\u001b[0m\u001b[0;32m   1278\u001b[0m     \u001b[1;31m# Convert to Python primitive type to avoid NumPy type / Python str\u001b[0m\u001b[1;33m\u001b[0m\u001b[1;33m\u001b[0m\u001b[0m\n\u001b[0;32m   1279\u001b[0m     \u001b[1;31m# comparison. See https://github.com/numpy/numpy/issues/6784\u001b[0m\u001b[1;33m\u001b[0m\u001b[1;33m\u001b[0m\u001b[0m\n",
      "\u001b[1;32mF:\\Anaconda\\lib\\site-packages\\sklearn\\metrics\\_classification.py\u001b[0m in \u001b[0;36m_check_targets\u001b[1;34m(y_true, y_pred)\u001b[0m\n\u001b[0;32m     90\u001b[0m \u001b[1;33m\u001b[0m\u001b[0m\n\u001b[0;32m     91\u001b[0m     \u001b[1;32mif\u001b[0m \u001b[0mlen\u001b[0m\u001b[1;33m(\u001b[0m\u001b[0my_type\u001b[0m\u001b[1;33m)\u001b[0m \u001b[1;33m>\u001b[0m \u001b[1;36m1\u001b[0m\u001b[1;33m:\u001b[0m\u001b[1;33m\u001b[0m\u001b[1;33m\u001b[0m\u001b[0m\n\u001b[1;32m---> 92\u001b[1;33m         raise ValueError(\"Classification metrics can't handle a mix of {0} \"\n\u001b[0m\u001b[0;32m     93\u001b[0m                          \"and {1} targets\".format(type_true, type_pred))\n\u001b[0;32m     94\u001b[0m \u001b[1;33m\u001b[0m\u001b[0m\n",
      "\u001b[1;31mValueError\u001b[0m: Classification metrics can't handle a mix of binary and continuous-multioutput targets"
     ]
    }
   ],
   "source": [
    "import numpy as np\n",
    "from sklearn.metrics import precision_recall_fscore_support\n",
    "precision_recall_fscore_support(yn, pred, average='macro')"
   ]
  },
  {
   "cell_type": "code",
   "execution_count": null,
   "id": "060a7b24",
   "metadata": {},
   "outputs": [],
   "source": []
  }
 ],
 "metadata": {
  "kernelspec": {
   "display_name": "Python 3 (ipykernel)",
   "language": "python",
   "name": "python3"
  },
  "language_info": {
   "codemirror_mode": {
    "name": "ipython",
    "version": 3
   },
   "file_extension": ".py",
   "mimetype": "text/x-python",
   "name": "python",
   "nbconvert_exporter": "python",
   "pygments_lexer": "ipython3",
   "version": "3.9.7"
  }
 },
 "nbformat": 4,
 "nbformat_minor": 5
}
